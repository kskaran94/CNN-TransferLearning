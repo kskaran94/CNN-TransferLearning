{
  "nbformat": 4,
  "nbformat_minor": 0,
  "metadata": {
    "colab": {
      "name": "CNN and Transfer Learning",
      "version": "0.3.2",
      "provenance": [],
      "collapsed_sections": [],
      "include_colab_link": true
    },
    "kernelspec": {
      "name": "python3",
      "display_name": "Python 3"
    },
    "accelerator": "GPU"
  },
  "cells": [
    {
      "cell_type": "markdown",
      "metadata": {
        "id": "view-in-github",
        "colab_type": "text"
      },
      "source": [
        "<a href=\"https://colab.research.google.com/github/kskaran94/CNN_-_TransferLearning/blob/master/CNN_and_Transfer_Learning.ipynb\" target=\"_parent\"><img src=\"https://colab.research.google.com/assets/colab-badge.svg\" alt=\"Open In Colab\"/></a>"
      ]
    },
    {
      "cell_type": "markdown",
      "metadata": {
        "id": "Rbnp_FVY5ezv",
        "colab_type": "text"
      },
      "source": [
        "The following script has been written in Google colab notebook. \n",
        "The data set is available on kaggle. The aim of the script is not to get a perfect score on Kaggle leaderboard but to understand Convolution Neural Networks and Transfer learning.  I have used only the train dataset here. \n"
      ]
    },
    {
      "cell_type": "markdown",
      "metadata": {
        "id": "PvxONO_V6LY3",
        "colab_type": "text"
      },
      "source": [
        "## **Libraries Imported**"
      ]
    },
    {
      "cell_type": "code",
      "metadata": {
        "id": "skdmTVZK5O5m",
        "colab_type": "code",
        "colab": {}
      },
      "source": [
        "from google.colab import files\n",
        "import json\n",
        "from glob import glob\n",
        "import fnmatch\n",
        "import cv2\n",
        "import pandas as pd\n",
        "import numpy as np\n",
        "from sklearn.model_selection import train_test_split\n",
        "from tensorflow.keras.layers import Conv2D, MaxPooling2D, Flatten, Activation, Dense, \\\n",
        "Dropout, Input, add\n",
        "from tensorflow.keras import Sequential\n",
        "from tensorflow.keras.layers import BatchNormalization\n",
        "from tensorflow.keras.utils import to_categorical\n",
        "from tensorflow.keras.preprocessing.image import ImageDataGenerator\n",
        "from tensorflow.keras.models import Sequential, Model\n",
        "from sklearn.metrics import roc_auc_score\n",
        "import os\n",
        "import shutil\n",
        "import warnings\n",
        "warnings.filterwarnings('ignore')\n"
      ],
      "execution_count": 0,
      "outputs": []
    },
    {
      "cell_type": "code",
      "metadata": {
        "id": "JET9FzPM61h9",
        "colab_type": "code",
        "outputId": "d94352cd-0dcb-48cd-a8a3-dd13e40830a6",
        "colab": {
          "resources": {
            "http://localhost:8080/nbextensions/google.colab/files.js": {
              "data": "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",
              "ok": true,
              "headers": [
                [
                  "content-type",
                  "application/javascript"
                ]
              ],
              "status": 200,
              "status_text": ""
            }
          },
          "base_uri": "https://localhost:8080/",
          "height": 71
        }
      },
      "source": [
        "uploaded = files.upload()\n"
      ],
      "execution_count": 0,
      "outputs": [
        {
          "output_type": "display_data",
          "data": {
            "text/html": [
              "\n",
              "     <input type=\"file\" id=\"files-aacb8bb5-7858-4495-8c92-2b9ded55cf37\" name=\"files[]\" multiple disabled />\n",
              "     <output id=\"result-aacb8bb5-7858-4495-8c92-2b9ded55cf37\">\n",
              "      Upload widget is only available when the cell has been executed in the\n",
              "      current browser session. Please rerun this cell to enable.\n",
              "      </output>\n",
              "      <script src=\"/nbextensions/google.colab/files.js\"></script> "
            ],
            "text/plain": [
              "<IPython.core.display.HTML object>"
            ]
          },
          "metadata": {
            "tags": []
          }
        },
        {
          "output_type": "stream",
          "text": [
            "Saving kaggle.json to kaggle.json\n"
          ],
          "name": "stdout"
        }
      ]
    },
    {
      "cell_type": "markdown",
      "metadata": {
        "id": "Uam2mDzYDGXA",
        "colab_type": "text"
      },
      "source": [
        "## **Reading Data**"
      ]
    },
    {
      "cell_type": "markdown",
      "metadata": {
        "id": "_swTcojN8FaN",
        "colab_type": "text"
      },
      "source": [
        "Downloading data from kaggle . If you have this data available , then you can skip this code cell"
      ]
    },
    {
      "cell_type": "code",
      "metadata": {
        "id": "A633hwCl68y3",
        "colab_type": "code",
        "outputId": "bb7355b5-a04a-420a-a16d-8832f222df82",
        "colab": {
          "base_uri": "https://localhost:8080/",
          "height": 221
        }
      },
      "source": [
        "!pip install -q kaggle\n",
        "\n",
        "!mkdir -p ~/.kaggle\n",
        "!cp kaggle.json ~/.kaggle/\n",
        "\n",
        "token = {\"username\":\"kskaran94\",\"key\":\"67ffe4a038a3668b565ca33b1a78dd01\"}\n",
        "with open('/root/.kaggle/kaggle.json', 'w') as file:\n",
        "    json.dump(token, file)\n",
        "    \n",
        "! chmod 600 /root/.kaggle/kaggle.json\n",
        "\n",
        "! kaggle competitions download -c aerial-cactus-identification"
      ],
      "execution_count": 0,
      "outputs": [
        {
          "output_type": "stream",
          "text": [
            "Downloading train.csv to /content\n",
            "\r  0% 0.00/667k [00:00<?, ?B/s]\n",
            "100% 667k/667k [00:00<00:00, 45.5MB/s]\n",
            "Downloading sample_submission.csv to /content\n",
            "  0% 0.00/160k [00:00<?, ?B/s]\n",
            "100% 160k/160k [00:00<00:00, 54.1MB/s]\n",
            "Downloading test.zip to /content\n",
            "  0% 0.00/4.20M [00:00<?, ?B/s]\n",
            "100% 4.20M/4.20M [00:00<00:00, 69.1MB/s]\n",
            "Downloading train.zip to /content\n",
            " 47% 9.00M/19.2M [00:00<00:00, 59.2MB/s]\n",
            "100% 19.2M/19.2M [00:00<00:00, 93.8MB/s]\n"
          ],
          "name": "stdout"
        }
      ]
    },
    {
      "cell_type": "code",
      "metadata": {
        "id": "5EoReX5E7-nd",
        "colab_type": "code",
        "colab": {}
      },
      "source": [
        "! unzip /content/train.zip\n",
        "! unzip /content/test.zip"
      ],
      "execution_count": 0,
      "outputs": []
    },
    {
      "cell_type": "markdown",
      "metadata": {
        "id": "wrE03Oe29PhW",
        "colab_type": "text"
      },
      "source": [
        "Read the target csv, which contains image url and the label. This csv will help us reorganize the data."
      ]
    },
    {
      "cell_type": "code",
      "metadata": {
        "id": "4ihRF1PJ8WpP",
        "colab_type": "code",
        "outputId": "bfab50e4-906c-40d5-ef52-2bba1d7a342e",
        "colab": {
          "base_uri": "https://localhost:8080/",
          "height": 204
        }
      },
      "source": [
        "target_csv = pd.read_csv('/content/train.csv')\n",
        "target_csv.head()"
      ],
      "execution_count": 0,
      "outputs": [
        {
          "output_type": "execute_result",
          "data": {
            "text/html": [
              "<div>\n",
              "<style scoped>\n",
              "    .dataframe tbody tr th:only-of-type {\n",
              "        vertical-align: middle;\n",
              "    }\n",
              "\n",
              "    .dataframe tbody tr th {\n",
              "        vertical-align: top;\n",
              "    }\n",
              "\n",
              "    .dataframe thead th {\n",
              "        text-align: right;\n",
              "    }\n",
              "</style>\n",
              "<table border=\"1\" class=\"dataframe\">\n",
              "  <thead>\n",
              "    <tr style=\"text-align: right;\">\n",
              "      <th></th>\n",
              "      <th>id</th>\n",
              "      <th>has_cactus</th>\n",
              "    </tr>\n",
              "  </thead>\n",
              "  <tbody>\n",
              "    <tr>\n",
              "      <th>0</th>\n",
              "      <td>0004be2cfeaba1c0361d39e2b000257b.jpg</td>\n",
              "      <td>1</td>\n",
              "    </tr>\n",
              "    <tr>\n",
              "      <th>1</th>\n",
              "      <td>000c8a36845c0208e833c79c1bffedd1.jpg</td>\n",
              "      <td>1</td>\n",
              "    </tr>\n",
              "    <tr>\n",
              "      <th>2</th>\n",
              "      <td>000d1e9a533f62e55c289303b072733d.jpg</td>\n",
              "      <td>1</td>\n",
              "    </tr>\n",
              "    <tr>\n",
              "      <th>3</th>\n",
              "      <td>0011485b40695e9138e92d0b3fb55128.jpg</td>\n",
              "      <td>1</td>\n",
              "    </tr>\n",
              "    <tr>\n",
              "      <th>4</th>\n",
              "      <td>0014d7a11e90b62848904c1418fc8cf2.jpg</td>\n",
              "      <td>1</td>\n",
              "    </tr>\n",
              "  </tbody>\n",
              "</table>\n",
              "</div>"
            ],
            "text/plain": [
              "                                     id  has_cactus\n",
              "0  0004be2cfeaba1c0361d39e2b000257b.jpg           1\n",
              "1  000c8a36845c0208e833c79c1bffedd1.jpg           1\n",
              "2  000d1e9a533f62e55c289303b072733d.jpg           1\n",
              "3  0011485b40695e9138e92d0b3fb55128.jpg           1\n",
              "4  0014d7a11e90b62848904c1418fc8cf2.jpg           1"
            ]
          },
          "metadata": {
            "tags": []
          },
          "execution_count": 7
        }
      ]
    },
    {
      "cell_type": "markdown",
      "metadata": {
        "id": "q-SDoohl9rCn",
        "colab_type": "text"
      },
      "source": [
        "Re-arranging the data and moving it into a target based folder structure"
      ]
    },
    {
      "cell_type": "code",
      "metadata": {
        "id": "n17DPvcR9qAa",
        "colab_type": "code",
        "colab": {}
      },
      "source": [
        "\n",
        "!mkdir /content/data/\n",
        "!mkdir /content/data/0/\n",
        "!mkdir /content/data/1/\n",
        "\n",
        "\n",
        "urls_1 = target_csv[target_csv['has_cactus']==1]['id'].values\n",
        "urls_0 = target_csv[target_csv['has_cactus']==0]['id'].values\n",
        "\n",
        "\n",
        "\n",
        "for file in urls_0:\n",
        "    shutil.copy('/content/train/'+ file, '/content/data/0/')\n",
        "\n",
        "for file in urls_1:\n",
        "    shutil.copy('/content/train/'+ file, '/content/data/1/')"
      ],
      "execution_count": 0,
      "outputs": []
    },
    {
      "cell_type": "markdown",
      "metadata": {
        "id": "9X8RPDs3DOHo",
        "colab_type": "text"
      },
      "source": [
        "## **Data Transformation**"
      ]
    },
    {
      "cell_type": "markdown",
      "metadata": {
        "id": "USf5X0vmBtnc",
        "colab_type": "text"
      },
      "source": [
        "Reading a sub sample of class 0 images and re -sizing them with height and width=50. The images are read in X and the labels in Y. The same process is repeated for class 1 images.\n",
        "\n",
        "All the images have to be of the same size , hence the resizing is necessary."
      ]
    },
    {
      "cell_type": "code",
      "metadata": {
        "id": "VAI7iIhgBK-V",
        "colab_type": "code",
        "colab": {}
      },
      "source": [
        "x = []\n",
        "y = []\n",
        "WIDTH = 50\n",
        "HEIGHT = 50\n",
        "\n",
        "for img in urls_0:\n",
        "    full_size_image = cv2.imread('/content/data/0/'+img)\n",
        "    x.append(cv2.resize(full_size_image, (WIDTH,HEIGHT), \n",
        "                      interpolation=cv2.INTER_CUBIC))\n",
        "    y.append(0)\n",
        "    \n",
        "for img in urls_1:\n",
        "    full_size_image = cv2.imread('/content/data/1/'+img)\n",
        "    x.append(cv2.resize(full_size_image, (WIDTH,HEIGHT), \n",
        "                      interpolation=cv2.INTER_CUBIC))\n",
        "    y.append(1)"
      ],
      "execution_count": 0,
      "outputs": []
    },
    {
      "cell_type": "markdown",
      "metadata": {
        "id": "9L3ZBcI5CO7T",
        "colab_type": "text"
      },
      "source": [
        "Preprocessing of images: Dividing image by 255 for standarization. We could also transform the images from RGB to gray scale.\n",
        "\n",
        "Dividing the images into train and test with stratified sampling. So the distribution across train and test remain the same"
      ]
    },
    {
      "cell_type": "markdown",
      "metadata": {
        "id": "S931hZD6DYps",
        "colab_type": "text"
      },
      "source": [
        "## **Train-test split**"
      ]
    },
    {
      "cell_type": "code",
      "metadata": {
        "id": "8TkUC5oxCEWs",
        "colab_type": "code",
        "outputId": "336947a5-b6fb-4d6a-c115-bbfd2f1194f1",
        "colab": {
          "base_uri": "https://localhost:8080/",
          "height": 51
        }
      },
      "source": [
        "X=np.array(x)\n",
        "X = X/255\n",
        "\n",
        "X_train, X_test, Y_train, Y_test = train_test_split(X, y, test_size=0.2,\n",
        "                                                    stratify = y)\n",
        "\n",
        "\n",
        "\n",
        "print(\"Training Data Shape:\", X_train.shape)\n",
        "print(\"Testing Data Shape:\", X_test.shape)"
      ],
      "execution_count": 0,
      "outputs": [
        {
          "output_type": "stream",
          "text": [
            "Training Data Shape: (14000, 50, 50, 3)\n",
            "Testing Data Shape: (3500, 50, 50, 3)\n"
          ],
          "name": "stdout"
        }
      ]
    },
    {
      "cell_type": "markdown",
      "metadata": {
        "id": "tG8SAl6NC8ax",
        "colab_type": "text"
      },
      "source": [
        "## **Base Model**"
      ]
    },
    {
      "cell_type": "markdown",
      "metadata": {
        "id": "IdcmIxxOClVY",
        "colab_type": "text"
      },
      "source": [
        "Defining the neural network: For simplicity of the problem I have kept 2 convolution layers with kernel_size (3,3), followed by batch normalization ,Max pooling of (2,2) and Dropout.\n",
        "\n",
        "The drop out parameter , Max pool size can be tuned but due to restriction of computational resources , I was unable to. The same can be said for kernel size."
      ]
    },
    {
      "cell_type": "code",
      "metadata": {
        "id": "RMevnCtsCkhY",
        "colab_type": "code",
        "outputId": "95d31cfa-ba18-4309-df6b-a9ed283f0289",
        "colab": {
          "base_uri": "https://localhost:8080/",
          "height": 1496
        }
      },
      "source": [
        "num_classes = 2\n",
        "input_shape = (50, 50, 3)\n",
        "\n",
        "\n",
        "cnn_small_bn = Sequential([\n",
        "    Conv2D(8, kernel_size = (3,3), input_shape=input_shape, activation='relu'),\n",
        "    BatchNormalization(),\n",
        "    MaxPooling2D(pool_size=(2, 2)),\n",
        "    Dropout(.5),\n",
        "    Conv2D(8, kernel_size = (3,3), activation='relu'),\n",
        "    BatchNormalization(),\n",
        "    MaxPooling2D(pool_size=(2, 2)),\n",
        "    Dropout(.5),\n",
        "    Flatten(),\n",
        "    Dense(num_classes, activation='softmax'),\n",
        "                 ])\n",
        "\n",
        "y_train = to_categorical(Y_train, num_classes)\n",
        "y_test = to_categorical(Y_test, num_classes)\n",
        "\n",
        "cnn_small_bn.compile(\"adam\", \"binary_crossentropy\", metrics=['accuracy'])\n",
        "history_cnn = cnn_small_bn.fit(X_train, y_train,\n",
        "                      batch_size=128, epochs=30, verbose=2, validation_split=.1)\n",
        "pd.DataFrame(history_cnn.history).plot()"
      ],
      "execution_count": 0,
      "outputs": [
        {
          "output_type": "stream",
          "text": [
            "WARNING:tensorflow:From /usr/local/lib/python3.6/dist-packages/tensorflow/python/ops/resource_variable_ops.py:435: colocate_with (from tensorflow.python.framework.ops) is deprecated and will be removed in a future version.\n",
            "Instructions for updating:\n",
            "Colocations handled automatically by placer.\n",
            "WARNING:tensorflow:From /usr/local/lib/python3.6/dist-packages/tensorflow/python/keras/layers/core.py:143: calling dropout (from tensorflow.python.ops.nn_ops) with keep_prob is deprecated and will be removed in a future version.\n",
            "Instructions for updating:\n",
            "Please use `rate` instead of `keep_prob`. Rate should be set to `rate = 1 - keep_prob`.\n",
            "Train on 12600 samples, validate on 1400 samples\n",
            "WARNING:tensorflow:From /usr/local/lib/python3.6/dist-packages/tensorflow/python/ops/math_ops.py:3066: to_int32 (from tensorflow.python.ops.math_ops) is deprecated and will be removed in a future version.\n",
            "Instructions for updating:\n",
            "Use tf.cast instead.\n",
            "Epoch 1/30\n",
            " - 5s - loss: 0.4195 - acc: 0.8722 - val_loss: 2.3932 - val_acc: 0.2664\n",
            "Epoch 2/30\n",
            " - 2s - loss: 0.1717 - acc: 0.9413 - val_loss: 2.2641 - val_acc: 0.2664\n",
            "Epoch 3/30\n",
            " - 2s - loss: 0.1421 - acc: 0.9487 - val_loss: 1.2960 - val_acc: 0.3707\n",
            "Epoch 4/30\n",
            " - 2s - loss: 0.1220 - acc: 0.9545 - val_loss: 0.8175 - val_acc: 0.6414\n",
            "Epoch 5/30\n",
            " - 2s - loss: 0.1159 - acc: 0.9573 - val_loss: 0.4337 - val_acc: 0.8143\n",
            "Epoch 6/30\n",
            " - 2s - loss: 0.1049 - acc: 0.9594 - val_loss: 0.1196 - val_acc: 0.9543\n",
            "Epoch 7/30\n",
            " - 2s - loss: 0.1039 - acc: 0.9598 - val_loss: 0.1324 - val_acc: 0.9400\n",
            "Epoch 8/30\n",
            " - 2s - loss: 0.0951 - acc: 0.9651 - val_loss: 0.4485 - val_acc: 0.8536\n",
            "Epoch 9/30\n",
            " - 2s - loss: 0.0923 - acc: 0.9660 - val_loss: 0.1012 - val_acc: 0.9543\n",
            "Epoch 10/30\n",
            " - 2s - loss: 0.0890 - acc: 0.9647 - val_loss: 0.0835 - val_acc: 0.9714\n",
            "Epoch 11/30\n",
            " - 2s - loss: 0.0938 - acc: 0.9643 - val_loss: 0.1653 - val_acc: 0.9307\n",
            "Epoch 12/30\n",
            " - 2s - loss: 0.0933 - acc: 0.9643 - val_loss: 0.2285 - val_acc: 0.9100\n",
            "Epoch 13/30\n",
            " - 2s - loss: 0.0868 - acc: 0.9681 - val_loss: 0.2121 - val_acc: 0.9264\n",
            "Epoch 14/30\n",
            " - 2s - loss: 0.0853 - acc: 0.9681 - val_loss: 0.2461 - val_acc: 0.9143\n",
            "Epoch 15/30\n",
            " - 2s - loss: 0.0818 - acc: 0.9703 - val_loss: 0.1292 - val_acc: 0.9464\n",
            "Epoch 16/30\n",
            " - 2s - loss: 0.0839 - acc: 0.9683 - val_loss: 0.2374 - val_acc: 0.9143\n",
            "Epoch 17/30\n",
            " - 2s - loss: 0.0804 - acc: 0.9687 - val_loss: 0.2355 - val_acc: 0.9043\n",
            "Epoch 18/30\n",
            " - 2s - loss: 0.0863 - acc: 0.9671 - val_loss: 0.2014 - val_acc: 0.9221\n",
            "Epoch 19/30\n",
            " - 2s - loss: 0.0781 - acc: 0.9717 - val_loss: 0.1249 - val_acc: 0.9571\n",
            "Epoch 20/30\n",
            " - 2s - loss: 0.0790 - acc: 0.9707 - val_loss: 0.1040 - val_acc: 0.9614\n",
            "Epoch 21/30\n",
            " - 2s - loss: 0.0807 - acc: 0.9704 - val_loss: 0.0710 - val_acc: 0.9736\n",
            "Epoch 22/30\n",
            " - 2s - loss: 0.0723 - acc: 0.9740 - val_loss: 0.0683 - val_acc: 0.9750\n",
            "Epoch 23/30\n",
            " - 2s - loss: 0.0721 - acc: 0.9733 - val_loss: 0.1250 - val_acc: 0.9579\n",
            "Epoch 24/30\n",
            " - 2s - loss: 0.0704 - acc: 0.9743 - val_loss: 0.0821 - val_acc: 0.9679\n",
            "Epoch 25/30\n",
            " - 2s - loss: 0.0749 - acc: 0.9719 - val_loss: 0.0741 - val_acc: 0.9707\n",
            "Epoch 26/30\n",
            " - 2s - loss: 0.0747 - acc: 0.9722 - val_loss: 0.5137 - val_acc: 0.8429\n",
            "Epoch 27/30\n",
            " - 2s - loss: 0.0677 - acc: 0.9737 - val_loss: 0.0656 - val_acc: 0.9786\n",
            "Epoch 28/30\n",
            " - 2s - loss: 0.0693 - acc: 0.9726 - val_loss: 0.0702 - val_acc: 0.9714\n",
            "Epoch 29/30\n",
            " - 2s - loss: 0.0643 - acc: 0.9750 - val_loss: 0.0755 - val_acc: 0.9721\n",
            "Epoch 30/30\n",
            " - 2s - loss: 0.0770 - acc: 0.9713 - val_loss: 0.0807 - val_acc: 0.9679\n"
          ],
          "name": "stdout"
        },
        {
          "output_type": "execute_result",
          "data": {
            "text/plain": [
              "<matplotlib.axes._subplots.AxesSubplot at 0x7fe84e7a7198>"
            ]
          },
          "metadata": {
            "tags": []
          },
          "execution_count": 11
        },
        {
          "output_type": "display_data",
          "data": {
            "image/png": "[encoded data removed]",
            "text/plain": [
              "<Figure size 432x288 with 1 Axes>"
            ]
          },
          "metadata": {
            "tags": []
          }
        }
      ]
    },
    {
      "cell_type": "markdown",
      "metadata": {
        "id": "Y8UyhAHcMLzI",
        "colab_type": "text"
      },
      "source": [
        "The model performs well on both the train and validation tests."
      ]
    },
    {
      "cell_type": "markdown",
      "metadata": {
        "id": "6qfiFkDWhkEE",
        "colab_type": "text"
      },
      "source": [
        "## **Image Augmentation with base model**"
      ]
    },
    {
      "cell_type": "code",
      "metadata": {
        "id": "PxkQWbCGhsl_",
        "colab_type": "code",
        "colab": {
          "base_uri": "https://localhost:8080/",
          "height": 1850
        },
        "outputId": "eea65402-5761-483f-98aa-626c26ae797c"
      },
      "source": [
        "batch_size=32\n",
        "\n",
        "train_datagen = ImageDataGenerator(\n",
        "        rescale=1./255,\n",
        "        shear_range=0.2,\n",
        "        zoom_range=0.2,\n",
        "        horizontal_flip=True, \n",
        "        rotation_range=50,\n",
        "        height_shift_range=0.1,validation_split=0.1)\n",
        "\n",
        "# this is the augmentation configuration we will use for testing:\n",
        "# only rescaling\n",
        "test_datagen = ImageDataGenerator(rescale=1./255)\n",
        "\n",
        "# this is a generator that will read pictures found in\n",
        "# subfolers of 'data/train', and indefinitely generate\n",
        "# batches of augmented image data\n",
        "train_generator = train_datagen.flow_from_directory(\n",
        "        '/content/data/',  # this is the target directory\n",
        "        target_size=(50, 50),  # all images will be resized to 50x50\n",
        "        batch_size=batch_size,\n",
        "        class_mode='categorical')  # since we use binary_crossentropy loss, we need binary labels\n",
        "\n",
        "# this is a similar generator, for validation data\n",
        "validation_generator = test_datagen.flow_from_directory(\n",
        "        '/content/data/',\n",
        "        target_size=(50, 50),\n",
        "        batch_size=batch_size,\n",
        "        class_mode='categorical')\n",
        "\n",
        "\n",
        "history_cnn = cnn_small_bn.fit_generator(\n",
        "        train_generator,\n",
        "        steps_per_epoch=200 // batch_size,\n",
        "        epochs=30,\n",
        "        verbose=2,\n",
        "        validation_data=validation_generator,\n",
        "        validation_steps=80 // batch_size)\n",
        "\n",
        "pd.DataFrame(history_cnn.history).plot()"
      ],
      "execution_count": 18,
      "outputs": [
        {
          "output_type": "stream",
          "text": [
            "Found 17500 images belonging to 2 classes.\n",
            "Found 17500 images belonging to 2 classes.\n",
            "Epoch 1/30\n",
            "547/547 [==============================] - 8s 15ms/step - loss: 0.1460 - acc: 0.9441\n",
            " - 30s - loss: 0.1415 - acc: 0.9468 - val_loss: 0.1460 - val_acc: 0.9441\n",
            "Epoch 2/30\n",
            "547/547 [==============================] - 8s 15ms/step - loss: 0.1113 - acc: 0.9557\n",
            " - 29s - loss: 0.1312 - acc: 0.9502 - val_loss: 0.1113 - val_acc: 0.9557\n",
            "Epoch 3/30\n",
            "547/547 [==============================] - 8s 15ms/step - loss: 0.0977 - acc: 0.9601\n",
            " - 29s - loss: 0.1208 - acc: 0.9546 - val_loss: 0.0977 - val_acc: 0.9601\n",
            "Epoch 4/30\n",
            "547/547 [==============================] - 8s 15ms/step - loss: 0.2326 - acc: 0.9187\n",
            " - 29s - loss: 0.1147 - acc: 0.9566 - val_loss: 0.2326 - val_acc: 0.9187\n",
            "Epoch 5/30\n",
            "547/547 [==============================] - 8s 15ms/step - loss: 0.1216 - acc: 0.9500\n",
            " - 29s - loss: 0.1140 - acc: 0.9570 - val_loss: 0.1216 - val_acc: 0.9500\n",
            "Epoch 6/30\n",
            "547/547 [==============================] - 8s 15ms/step - loss: 0.0982 - acc: 0.9607\n",
            " - 29s - loss: 0.1127 - acc: 0.9577 - val_loss: 0.0982 - val_acc: 0.9607\n",
            "Epoch 7/30\n",
            "547/547 [==============================] - 8s 15ms/step - loss: 0.0818 - acc: 0.9694\n",
            " - 29s - loss: 0.1078 - acc: 0.9584 - val_loss: 0.0818 - val_acc: 0.9694\n",
            "Epoch 8/30\n",
            "547/547 [==============================] - 8s 15ms/step - loss: 0.0777 - acc: 0.9705\n",
            " - 29s - loss: 0.1081 - acc: 0.9587 - val_loss: 0.0777 - val_acc: 0.9705\n",
            "Epoch 9/30\n",
            "547/547 [==============================] - 8s 15ms/step - loss: 0.1411 - acc: 0.9411\n",
            " - 29s - loss: 0.1058 - acc: 0.9591 - val_loss: 0.1411 - val_acc: 0.9411\n",
            "Epoch 10/30\n",
            "547/547 [==============================] - 8s 15ms/step - loss: 0.0907 - acc: 0.9631\n",
            " - 30s - loss: 0.1059 - acc: 0.9593 - val_loss: 0.0907 - val_acc: 0.9631\n",
            "Epoch 11/30\n",
            "547/547 [==============================] - 8s 15ms/step - loss: 0.2384 - acc: 0.8997\n",
            " - 29s - loss: 0.1006 - acc: 0.9639 - val_loss: 0.2384 - val_acc: 0.8997\n",
            "Epoch 12/30\n",
            "547/547 [==============================] - 8s 15ms/step - loss: 0.1251 - acc: 0.9502\n",
            " - 29s - loss: 0.1024 - acc: 0.9601 - val_loss: 0.1251 - val_acc: 0.9502\n",
            "Epoch 13/30\n",
            "547/547 [==============================] - 8s 15ms/step - loss: 0.1508 - acc: 0.9333\n",
            " - 29s - loss: 0.0973 - acc: 0.9632 - val_loss: 0.1508 - val_acc: 0.9333\n",
            "Epoch 14/30\n",
            "547/547 [==============================] - 8s 15ms/step - loss: 0.0679 - acc: 0.9740\n",
            " - 29s - loss: 0.0922 - acc: 0.9640 - val_loss: 0.0679 - val_acc: 0.9740\n",
            "Epoch 15/30\n",
            "547/547 [==============================] - 8s 15ms/step - loss: 0.1713 - acc: 0.9267\n",
            " - 29s - loss: 0.0988 - acc: 0.9617 - val_loss: 0.1713 - val_acc: 0.9267\n",
            "Epoch 16/30\n",
            "547/547 [==============================] - 8s 15ms/step - loss: 0.0963 - acc: 0.9589\n",
            " - 29s - loss: 0.0961 - acc: 0.9642 - val_loss: 0.0963 - val_acc: 0.9589\n",
            "Epoch 17/30\n",
            "547/547 [==============================] - 8s 15ms/step - loss: 0.0828 - acc: 0.9693\n",
            " - 29s - loss: 0.0944 - acc: 0.9660 - val_loss: 0.0828 - val_acc: 0.9693\n",
            "Epoch 18/30\n",
            "547/547 [==============================] - 8s 15ms/step - loss: 0.1007 - acc: 0.9638\n",
            " - 29s - loss: 0.0983 - acc: 0.9615 - val_loss: 0.1007 - val_acc: 0.9638\n",
            "Epoch 19/30\n",
            "547/547 [==============================] - 8s 15ms/step - loss: 0.0726 - acc: 0.9717\n",
            " - 29s - loss: 0.0961 - acc: 0.9635 - val_loss: 0.0726 - val_acc: 0.9717\n",
            "Epoch 20/30\n",
            "547/547 [==============================] - 8s 15ms/step - loss: 0.1283 - acc: 0.9442\n",
            " - 29s - loss: 0.0962 - acc: 0.9641 - val_loss: 0.1283 - val_acc: 0.9442\n",
            "Epoch 21/30\n",
            "547/547 [==============================] - 8s 15ms/step - loss: 0.1018 - acc: 0.9625\n",
            " - 30s - loss: 0.0910 - acc: 0.9654 - val_loss: 0.1018 - val_acc: 0.9625\n",
            "Epoch 22/30\n",
            "547/547 [==============================] - 8s 15ms/step - loss: 0.2448 - acc: 0.9059\n",
            " - 29s - loss: 0.0899 - acc: 0.9673 - val_loss: 0.2448 - val_acc: 0.9059\n",
            "Epoch 23/30\n",
            "547/547 [==============================] - 8s 15ms/step - loss: 0.2623 - acc: 0.8855\n",
            " - 29s - loss: 0.0925 - acc: 0.9659 - val_loss: 0.2623 - val_acc: 0.8855\n",
            "Epoch 24/30\n",
            "547/547 [==============================] - 8s 15ms/step - loss: 0.0782 - acc: 0.9692\n",
            " - 29s - loss: 0.0903 - acc: 0.9657 - val_loss: 0.0782 - val_acc: 0.9692\n",
            "Epoch 25/30\n",
            "547/547 [==============================] - 8s 15ms/step - loss: 0.0774 - acc: 0.9719\n",
            " - 29s - loss: 0.0893 - acc: 0.9667 - val_loss: 0.0774 - val_acc: 0.9719\n",
            "Epoch 26/30\n",
            "547/547 [==============================] - 8s 15ms/step - loss: 0.3219 - acc: 0.8593\n",
            " - 29s - loss: 0.0886 - acc: 0.9666 - val_loss: 0.3219 - val_acc: 0.8593\n",
            "Epoch 27/30\n",
            "547/547 [==============================] - 8s 15ms/step - loss: 0.0853 - acc: 0.9657\n",
            " - 29s - loss: 0.0861 - acc: 0.9669 - val_loss: 0.0853 - val_acc: 0.9657\n",
            "Epoch 28/30\n",
            "547/547 [==============================] - 8s 15ms/step - loss: 0.1065 - acc: 0.9568\n",
            " - 29s - loss: 0.0899 - acc: 0.9666 - val_loss: 0.1065 - val_acc: 0.9568\n",
            "Epoch 29/30\n",
            "547/547 [==============================] - 8s 15ms/step - loss: 0.1004 - acc: 0.9629\n",
            " - 29s - loss: 0.0938 - acc: 0.9646 - val_loss: 0.1004 - val_acc: 0.9629\n",
            "Epoch 30/30\n",
            "547/547 [==============================] - 8s 15ms/step - loss: 0.0987 - acc: 0.9641\n",
            " - 29s - loss: 0.0865 - acc: 0.9674 - val_loss: 0.0987 - val_acc: 0.9641\n"
          ],
          "name": "stdout"
        },
        {
          "output_type": "execute_result",
          "data": {
            "text/plain": [
              "<matplotlib.axes._subplots.AxesSubplot at 0x7fe8402f8080>"
            ]
          },
          "metadata": {
            "tags": []
          },
          "execution_count": 18
        },
        {
          "output_type": "display_data",
          "data": {
            "image/png": "[encoded data removed]",
            "text/plain": [
              "<Figure size 432x288 with 1 Axes>"
            ]
          },
          "metadata": {
            "tags": []
          }
        }
      ]
    }
  ]
}