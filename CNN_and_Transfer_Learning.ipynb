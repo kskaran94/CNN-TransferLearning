{
  "nbformat": 4,
  "nbformat_minor": 0,
  "metadata": {
    "colab": {
      "name": "CNN and Transfer Learning",
      "version": "0.3.2",
      "provenance": [],
      "collapsed_sections": [],
      "include_colab_link": true
    },
    "kernelspec": {
      "name": "python3",
      "display_name": "Python 3"
    },
    "accelerator": "GPU"
  },
  "cells": [
    {
      "cell_type": "markdown",
      "metadata": {
        "id": "view-in-github",
        "colab_type": "text"
      },
      "source": [
        "<a href=\"https://colab.research.google.com/github/kskaran94/CNN-TransferLearning/blob/master/CNN_and_Transfer_Learning.ipynb\" target=\"_parent\"><img src=\"https://colab.research.google.com/assets/colab-badge.svg\" alt=\"Open In Colab\"/></a>"
      ]
    },
    {
      "cell_type": "markdown",
      "metadata": {
        "id": "Rbnp_FVY5ezv",
        "colab_type": "text"
      },
      "source": [
        "The following script has been written in Google colab notebook. \n",
        "The data set is available on kaggle. The aim of the script is not to get a perfect score on Kaggle leaderboard but to understand Convolution Neural Networks and Transfer learning.  I have used only the train dataset here. \n"
      ]
    },
    {
      "cell_type": "markdown",
      "metadata": {
        "id": "PvxONO_V6LY3",
        "colab_type": "text"
      },
      "source": [
        "## **Libraries Imported**"
      ]
    },
    {
      "cell_type": "code",
      "metadata": {
        "id": "skdmTVZK5O5m",
        "colab_type": "code",
        "colab": {}
      },
      "source": [
        "import tensorflow\n",
        "from google.colab import files\n",
        "from tensorflow.keras.applications.resnet50 import ResNet50, preprocess_input\n",
        "import json\n",
        "from glob import glob\n",
        "import fnmatch\n",
        "import cv2\n",
        "import pandas as pd\n",
        "import numpy as np\n",
        "from sklearn.model_selection import train_test_split\n",
        "from tensorflow.keras.layers import Conv2D, MaxPooling2D, Flatten, Activation, \\\n",
        "Dense, Dropout, Input, add\n",
        "from tensorflow.keras import Sequential\n",
        "from tensorflow.keras.layers import BatchNormalization\n",
        "from tensorflow.keras.utils import to_categorical\n",
        "from tensorflow.keras.preprocessing.image import ImageDataGenerator\n",
        "from tensorflow.keras.models import Sequential, Model\n",
        "from sklearn.metrics import accuracy_score, roc_auc_score\n",
        "import os\n",
        "import shutil\n",
        "import warnings\n",
        "warnings.filterwarnings('ignore')\n"
      ],
      "execution_count": 0,
      "outputs": []
    },
    {
      "cell_type": "code",
      "metadata": {
        "id": "JET9FzPM61h9",
        "colab_type": "code",
        "outputId": "0cbaeef5-5703-4a9c-e1fc-9506e4f49107",
        "colab": {
          "resources": {
            "http://localhost:8080/nbextensions/google.colab/files.js": {
              "data": "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",
              "ok": true,
              "headers": [
                [
                  "content-type",
                  "application/javascript"
                ]
              ],
              "status": 200,
              "status_text": ""
            }
          },
          "base_uri": "https://localhost:8080/",
          "height": 71
        }
      },
      "source": [
        "uploaded = files.upload()\n"
      ],
      "execution_count": 2,
      "outputs": [
        {
          "output_type": "display_data",
          "data": {
            "text/html": [
              "\n",
              "     <input type=\"file\" id=\"files-4b59b12a-488c-48bd-ba7f-f4918ddc1041\" name=\"files[]\" multiple disabled />\n",
              "     <output id=\"result-4b59b12a-488c-48bd-ba7f-f4918ddc1041\">\n",
              "      Upload widget is only available when the cell has been executed in the\n",
              "      current browser session. Please rerun this cell to enable.\n",
              "      </output>\n",
              "      <script src=\"/nbextensions/google.colab/files.js\"></script> "
            ],
            "text/plain": [
              "<IPython.core.display.HTML object>"
            ]
          },
          "metadata": {
            "tags": []
          }
        },
        {
          "output_type": "stream",
          "text": [
            "Saving kaggle.json to kaggle.json\n"
          ],
          "name": "stdout"
        }
      ]
    },
    {
      "cell_type": "markdown",
      "metadata": {
        "id": "Uam2mDzYDGXA",
        "colab_type": "text"
      },
      "source": [
        "## **Reading Data**"
      ]
    },
    {
      "cell_type": "markdown",
      "metadata": {
        "id": "_swTcojN8FaN",
        "colab_type": "text"
      },
      "source": [
        "Downloading data from kaggle . If you have this data available , then you can skip this code cell"
      ]
    },
    {
      "cell_type": "code",
      "metadata": {
        "id": "A633hwCl68y3",
        "colab_type": "code",
        "outputId": "962f6ce6-8e26-47e3-82b2-63e6c1832062",
        "colab": {
          "base_uri": "https://localhost:8080/",
          "height": 221
        }
      },
      "source": [
        "!pip install -q kaggle\n",
        "\n",
        "!mkdir -p ~/.kaggle\n",
        "!cp kaggle.json ~/.kaggle/\n",
        "\n",
        "token = {\"username\":\"kskaran94\",\"key\":\"67ffe4a038a3668b565ca33b1a78dd01\"}\n",
        "with open('/root/.kaggle/kaggle.json', 'w') as file:\n",
        "    json.dump(token, file)\n",
        "    \n",
        "! chmod 600 /root/.kaggle/kaggle.json\n",
        "\n",
        "! kaggle competitions download -c aerial-cactus-identification"
      ],
      "execution_count": 3,
      "outputs": [
        {
          "output_type": "stream",
          "text": [
            "Downloading train.csv to /content\n",
            "\r  0% 0.00/667k [00:00<?, ?B/s]\n",
            "100% 667k/667k [00:00<00:00, 43.3MB/s]\n",
            "Downloading sample_submission.csv to /content\n",
            "  0% 0.00/160k [00:00<?, ?B/s]\n",
            "100% 160k/160k [00:00<00:00, 50.7MB/s]\n",
            "Downloading test.zip to /content\n",
            "100% 4.20M/4.20M [00:00<00:00, 32.3MB/s]\n",
            "\n",
            "Downloading train.zip to /content\n",
            " 47% 9.00M/19.2M [00:00<00:00, 26.5MB/s]\n",
            "100% 19.2M/19.2M [00:00<00:00, 48.5MB/s]\n"
          ],
          "name": "stdout"
        }
      ]
    },
    {
      "cell_type": "code",
      "metadata": {
        "id": "5EoReX5E7-nd",
        "colab_type": "code",
        "colab": {}
      },
      "source": [
        "! unzip /content/train.zip\n",
        "! unzip /content/test.zip"
      ],
      "execution_count": 0,
      "outputs": []
    },
    {
      "cell_type": "markdown",
      "metadata": {
        "id": "wrE03Oe29PhW",
        "colab_type": "text"
      },
      "source": [
        "Read the target csv, which contains image url and the label. This csv will help us reorganize the data."
      ]
    },
    {
      "cell_type": "code",
      "metadata": {
        "id": "4ihRF1PJ8WpP",
        "colab_type": "code",
        "outputId": "a257eca7-862e-4912-e2a0-b786fafefec7",
        "colab": {
          "base_uri": "https://localhost:8080/",
          "height": 204
        }
      },
      "source": [
        "target_csv = pd.read_csv('/content/train.csv')\n",
        "target_csv.head()"
      ],
      "execution_count": 5,
      "outputs": [
        {
          "output_type": "execute_result",
          "data": {
            "text/html": [
              "<div>\n",
              "<style scoped>\n",
              "    .dataframe tbody tr th:only-of-type {\n",
              "        vertical-align: middle;\n",
              "    }\n",
              "\n",
              "    .dataframe tbody tr th {\n",
              "        vertical-align: top;\n",
              "    }\n",
              "\n",
              "    .dataframe thead th {\n",
              "        text-align: right;\n",
              "    }\n",
              "</style>\n",
              "<table border=\"1\" class=\"dataframe\">\n",
              "  <thead>\n",
              "    <tr style=\"text-align: right;\">\n",
              "      <th></th>\n",
              "      <th>id</th>\n",
              "      <th>has_cactus</th>\n",
              "    </tr>\n",
              "  </thead>\n",
              "  <tbody>\n",
              "    <tr>\n",
              "      <th>0</th>\n",
              "      <td>0004be2cfeaba1c0361d39e2b000257b.jpg</td>\n",
              "      <td>1</td>\n",
              "    </tr>\n",
              "    <tr>\n",
              "      <th>1</th>\n",
              "      <td>000c8a36845c0208e833c79c1bffedd1.jpg</td>\n",
              "      <td>1</td>\n",
              "    </tr>\n",
              "    <tr>\n",
              "      <th>2</th>\n",
              "      <td>000d1e9a533f62e55c289303b072733d.jpg</td>\n",
              "      <td>1</td>\n",
              "    </tr>\n",
              "    <tr>\n",
              "      <th>3</th>\n",
              "      <td>0011485b40695e9138e92d0b3fb55128.jpg</td>\n",
              "      <td>1</td>\n",
              "    </tr>\n",
              "    <tr>\n",
              "      <th>4</th>\n",
              "      <td>0014d7a11e90b62848904c1418fc8cf2.jpg</td>\n",
              "      <td>1</td>\n",
              "    </tr>\n",
              "  </tbody>\n",
              "</table>\n",
              "</div>"
            ],
            "text/plain": [
              "                                     id  has_cactus\n",
              "0  0004be2cfeaba1c0361d39e2b000257b.jpg           1\n",
              "1  000c8a36845c0208e833c79c1bffedd1.jpg           1\n",
              "2  000d1e9a533f62e55c289303b072733d.jpg           1\n",
              "3  0011485b40695e9138e92d0b3fb55128.jpg           1\n",
              "4  0014d7a11e90b62848904c1418fc8cf2.jpg           1"
            ]
          },
          "metadata": {
            "tags": []
          },
          "execution_count": 5
        }
      ]
    },
    {
      "cell_type": "markdown",
      "metadata": {
        "id": "q-SDoohl9rCn",
        "colab_type": "text"
      },
      "source": [
        "Re-arranging the data and moving it into a target based folder structure"
      ]
    },
    {
      "cell_type": "code",
      "metadata": {
        "id": "n17DPvcR9qAa",
        "colab_type": "code",
        "colab": {}
      },
      "source": [
        "\n",
        "!mkdir /content/data/\n",
        "!mkdir /content/data/0/\n",
        "!mkdir /content/data/1/\n",
        "\n",
        "\n",
        "urls_1 = target_csv[target_csv['has_cactus']==1]['id'].values\n",
        "urls_0 = target_csv[target_csv['has_cactus']==0]['id'].values\n",
        "\n",
        "\n",
        "\n",
        "for file in urls_0:\n",
        "    shutil.copy('/content/train/'+ file, '/content/data/0/')\n",
        "\n",
        "for file in urls_1:\n",
        "    shutil.copy('/content/train/'+ file, '/content/data/1/')"
      ],
      "execution_count": 0,
      "outputs": []
    },
    {
      "cell_type": "markdown",
      "metadata": {
        "id": "9X8RPDs3DOHo",
        "colab_type": "text"
      },
      "source": [
        "## **Data Transformation**"
      ]
    },
    {
      "cell_type": "markdown",
      "metadata": {
        "id": "USf5X0vmBtnc",
        "colab_type": "text"
      },
      "source": [
        "Reading a sub sample of class 0 images and re -sizing them with height and width=50. The images are read in X and the labels in Y. The same process is repeated for class 1 images.\n",
        "\n",
        "All the images have to be of the same size , hence the resizing is necessary."
      ]
    },
    {
      "cell_type": "code",
      "metadata": {
        "id": "VAI7iIhgBK-V",
        "colab_type": "code",
        "colab": {}
      },
      "source": [
        "x = []\n",
        "y = []\n",
        "WIDTH = 50\n",
        "HEIGHT = 50\n",
        "\n",
        "for img in urls_0:\n",
        "    full_size_image = cv2.imread('/content/data/0/'+img)\n",
        "    x.append(cv2.resize(full_size_image, (WIDTH,HEIGHT), \n",
        "                      interpolation=cv2.INTER_CUBIC))\n",
        "    y.append(0)\n",
        "    \n",
        "for img in urls_1:\n",
        "    full_size_image = cv2.imread('/content/data/1/'+img)\n",
        "    x.append(cv2.resize(full_size_image, (WIDTH,HEIGHT), \n",
        "                      interpolation=cv2.INTER_CUBIC))\n",
        "    y.append(1)"
      ],
      "execution_count": 0,
      "outputs": []
    },
    {
      "cell_type": "markdown",
      "metadata": {
        "id": "9L3ZBcI5CO7T",
        "colab_type": "text"
      },
      "source": [
        "Preprocessing of images: Dividing image by 255 for standarization. We could also transform the images from RGB to gray scale.\n",
        "\n",
        "Dividing the images into train and test with stratified sampling. So the distribution across train and test remain the same"
      ]
    },
    {
      "cell_type": "markdown",
      "metadata": {
        "id": "S931hZD6DYps",
        "colab_type": "text"
      },
      "source": [
        "## **Train-test split**"
      ]
    },
    {
      "cell_type": "code",
      "metadata": {
        "id": "8TkUC5oxCEWs",
        "colab_type": "code",
        "outputId": "48889c53-85c5-480d-9031-41eb76f6ad8b",
        "colab": {
          "base_uri": "https://localhost:8080/",
          "height": 51
        }
      },
      "source": [
        "X=np.array(x)\n",
        "X = X/255\n",
        "\n",
        "X_train, X_test, Y_train, Y_test = train_test_split(X, y, test_size=0.2,\n",
        "                                                    stratify = y)\n",
        "\n",
        "\n",
        "\n",
        "print(\"Training Data Shape:\", X_train.shape)\n",
        "print(\"Testing Data Shape:\", X_test.shape)"
      ],
      "execution_count": 8,
      "outputs": [
        {
          "output_type": "stream",
          "text": [
            "Training Data Shape: (14000, 50, 50, 3)\n",
            "Testing Data Shape: (3500, 50, 50, 3)\n"
          ],
          "name": "stdout"
        }
      ]
    },
    {
      "cell_type": "markdown",
      "metadata": {
        "id": "tG8SAl6NC8ax",
        "colab_type": "text"
      },
      "source": [
        "## **Base Model**"
      ]
    },
    {
      "cell_type": "markdown",
      "metadata": {
        "id": "IdcmIxxOClVY",
        "colab_type": "text"
      },
      "source": [
        "Defining the neural network: For simplicity of the problem I have kept 2 convolution layers with kernel_size (3,3), followed by batch normalization ,Max pooling of (2,2) and Dropout.\n",
        "\n",
        "The drop out parameter , Max pool size can be tuned but due to restriction of computational resources , I was unable to. The same can be said for kernel size."
      ]
    },
    {
      "cell_type": "code",
      "metadata": {
        "id": "RMevnCtsCkhY",
        "colab_type": "code",
        "outputId": "a2d2d42f-7bd9-4734-fde5-7e28e212ee09",
        "colab": {
          "base_uri": "https://localhost:8080/",
          "height": 1496
        }
      },
      "source": [
        "num_classes = 2\n",
        "input_shape = (50, 50, 3)\n",
        "\n",
        "\n",
        "cnn_small_bn = Sequential([\n",
        "    Conv2D(8, kernel_size = (3,3), input_shape=input_shape, activation='relu'),\n",
        "    BatchNormalization(),\n",
        "    MaxPooling2D(pool_size=(2, 2)),\n",
        "    Dropout(.5),\n",
        "    Conv2D(8, kernel_size = (3,3), activation='relu'),\n",
        "    BatchNormalization(),\n",
        "    MaxPooling2D(pool_size=(2, 2)),\n",
        "    Dropout(.5),\n",
        "    Flatten(),\n",
        "    Dense(num_classes, activation='softmax'),\n",
        "                 ])\n",
        "\n",
        "y_train = to_categorical(Y_train, num_classes)\n",
        "y_test = to_categorical(Y_test, num_classes)\n",
        "\n",
        "cnn_small_bn.compile(\"adam\", \"binary_crossentropy\", metrics=['accuracy'])\n",
        "history_cnn = cnn_small_bn.fit(X_train, y_train,\n",
        "                      batch_size=128, epochs=30, verbose=2, validation_split=.1)\n",
        "pd.DataFrame(history_cnn.history).plot()"
      ],
      "execution_count": 9,
      "outputs": [
        {
          "output_type": "stream",
          "text": [
            "WARNING:tensorflow:From /usr/local/lib/python3.6/dist-packages/tensorflow/python/ops/resource_variable_ops.py:435: colocate_with (from tensorflow.python.framework.ops) is deprecated and will be removed in a future version.\n",
            "Instructions for updating:\n",
            "Colocations handled automatically by placer.\n",
            "WARNING:tensorflow:From /usr/local/lib/python3.6/dist-packages/tensorflow/python/keras/layers/core.py:143: calling dropout (from tensorflow.python.ops.nn_ops) with keep_prob is deprecated and will be removed in a future version.\n",
            "Instructions for updating:\n",
            "Please use `rate` instead of `keep_prob`. Rate should be set to `rate = 1 - keep_prob`.\n",
            "Train on 12600 samples, validate on 1400 samples\n",
            "WARNING:tensorflow:From /usr/local/lib/python3.6/dist-packages/tensorflow/python/ops/math_ops.py:3066: to_int32 (from tensorflow.python.ops.math_ops) is deprecated and will be removed in a future version.\n",
            "Instructions for updating:\n",
            "Use tf.cast instead.\n",
            "Epoch 1/30\n",
            " - 5s - loss: 0.4396 - acc: 0.8644 - val_loss: 2.5258 - val_acc: 0.2364\n",
            "Epoch 2/30\n",
            " - 2s - loss: 0.1847 - acc: 0.9371 - val_loss: 2.5404 - val_acc: 0.2364\n",
            "Epoch 3/30\n",
            " - 2s - loss: 0.1492 - acc: 0.9473 - val_loss: 2.3380 - val_acc: 0.2407\n",
            "Epoch 4/30\n",
            " - 2s - loss: 0.1246 - acc: 0.9548 - val_loss: 1.4165 - val_acc: 0.3721\n",
            "Epoch 5/30\n",
            " - 2s - loss: 0.1134 - acc: 0.9566 - val_loss: 1.6177 - val_acc: 0.4421\n",
            "Epoch 6/30\n",
            " - 2s - loss: 0.1086 - acc: 0.9589 - val_loss: 0.2059 - val_acc: 0.9150\n",
            "Epoch 7/30\n",
            " - 2s - loss: 0.0945 - acc: 0.9626 - val_loss: 0.0947 - val_acc: 0.9643\n",
            "Epoch 8/30\n",
            " - 2s - loss: 0.0917 - acc: 0.9645 - val_loss: 0.6304 - val_acc: 0.7707\n",
            "Epoch 9/30\n",
            " - 2s - loss: 0.0896 - acc: 0.9644 - val_loss: 0.7169 - val_acc: 0.7621\n",
            "Epoch 10/30\n",
            " - 2s - loss: 0.0842 - acc: 0.9682 - val_loss: 0.6262 - val_acc: 0.7943\n",
            "Epoch 11/30\n",
            " - 2s - loss: 0.0815 - acc: 0.9698 - val_loss: 0.1763 - val_acc: 0.9214\n",
            "Epoch 12/30\n",
            " - 2s - loss: 0.0788 - acc: 0.9704 - val_loss: 0.0978 - val_acc: 0.9650\n",
            "Epoch 13/30\n",
            " - 2s - loss: 0.0774 - acc: 0.9694 - val_loss: 0.5474 - val_acc: 0.8086\n",
            "Epoch 14/30\n",
            " - 2s - loss: 0.0791 - acc: 0.9692 - val_loss: 0.2631 - val_acc: 0.9021\n",
            "Epoch 15/30\n",
            " - 2s - loss: 0.0755 - acc: 0.9699 - val_loss: 0.1481 - val_acc: 0.9271\n",
            "Epoch 16/30\n",
            " - 2s - loss: 0.0709 - acc: 0.9720 - val_loss: 0.2962 - val_acc: 0.8971\n",
            "Epoch 17/30\n",
            " - 2s - loss: 0.0733 - acc: 0.9730 - val_loss: 1.2380 - val_acc: 0.6493\n",
            "Epoch 18/30\n",
            " - 2s - loss: 0.0773 - acc: 0.9707 - val_loss: 0.0820 - val_acc: 0.9714\n",
            "Epoch 19/30\n",
            " - 2s - loss: 0.0716 - acc: 0.9713 - val_loss: 0.2931 - val_acc: 0.8986\n",
            "Epoch 20/30\n",
            " - 2s - loss: 0.0637 - acc: 0.9755 - val_loss: 0.2965 - val_acc: 0.8743\n",
            "Epoch 21/30\n",
            " - 2s - loss: 0.0701 - acc: 0.9726 - val_loss: 0.2915 - val_acc: 0.8836\n",
            "Epoch 22/30\n",
            " - 2s - loss: 0.0656 - acc: 0.9757 - val_loss: 0.0871 - val_acc: 0.9707\n",
            "Epoch 23/30\n",
            " - 2s - loss: 0.0710 - acc: 0.9729 - val_loss: 0.0641 - val_acc: 0.9793\n",
            "Epoch 24/30\n",
            " - 2s - loss: 0.0645 - acc: 0.9744 - val_loss: 0.0746 - val_acc: 0.9714\n",
            "Epoch 25/30\n",
            " - 2s - loss: 0.0682 - acc: 0.9736 - val_loss: 0.4460 - val_acc: 0.8643\n",
            "Epoch 26/30\n",
            " - 2s - loss: 0.0669 - acc: 0.9748 - val_loss: 0.0579 - val_acc: 0.9800\n",
            "Epoch 27/30\n",
            " - 2s - loss: 0.0661 - acc: 0.9745 - val_loss: 0.2936 - val_acc: 0.8786\n",
            "Epoch 28/30\n",
            " - 2s - loss: 0.0657 - acc: 0.9746 - val_loss: 0.0629 - val_acc: 0.9821\n",
            "Epoch 29/30\n",
            " - 2s - loss: 0.0622 - acc: 0.9757 - val_loss: 0.1843 - val_acc: 0.9257\n",
            "Epoch 30/30\n",
            " - 2s - loss: 0.0643 - acc: 0.9760 - val_loss: 0.2377 - val_acc: 0.9100\n"
          ],
          "name": "stdout"
        },
        {
          "output_type": "execute_result",
          "data": {
            "text/plain": [
              "<matplotlib.axes._subplots.AxesSubplot at 0x7f82128187f0>"
            ]
          },
          "metadata": {
            "tags": []
          },
          "execution_count": 9
        },
        {
          "output_type": "display_data",
          "data": {
            "image/png": "[encoded data removed]",
            "text/plain": [
              "<Figure size 432x288 with 1 Axes>"
            ]
          },
          "metadata": {
            "tags": []
          }
        }
      ]
    },
    {
      "cell_type": "markdown",
      "metadata": {
        "id": "Y8UyhAHcMLzI",
        "colab_type": "text"
      },
      "source": [
        "The model performs well on both the train and validation tests."
      ]
    },
    {
      "cell_type": "code",
      "metadata": {
        "id": "356HDcbz6Ogv",
        "colab_type": "code",
        "outputId": "9a70fef6-4604-47bc-9190-2a46939af899",
        "colab": {
          "base_uri": "https://localhost:8080/",
          "height": 34
        }
      },
      "source": [
        "roc_auc_score(Y_test, cnn_small_bn.predict_classes(X_test))"
      ],
      "execution_count": 10,
      "outputs": [
        {
          "output_type": "execute_result",
          "data": {
            "text/plain": [
              "0.9214858825719868"
            ]
          },
          "metadata": {
            "tags": []
          },
          "execution_count": 10
        }
      ]
    },
    {
      "cell_type": "markdown",
      "metadata": {
        "id": "s33evFN9obRu",
        "colab_type": "text"
      },
      "source": [
        "## **Data Segregation**"
      ]
    },
    {
      "cell_type": "code",
      "metadata": {
        "id": "SN7JghFIogQc",
        "colab_type": "code",
        "colab": {}
      },
      "source": [
        "!mkdir /content/data2/\n",
        "!mkdir /content/data2/train/\n",
        "!mkdir /content/data2/test/\n",
        "!mkdir /content/data2/train/0/\n",
        "!mkdir /content/data2/train/1/\n",
        "!mkdir /content/data2/test/0/\n",
        "!mkdir /content/data2/test/1/\n",
        "\n",
        "\n",
        "num_rows = target_csv.shape[0]\n",
        "\n",
        "\n",
        "\n",
        "\n",
        "urls_1 = target_csv[target_csv['has_cactus']==1]['id'].values\n",
        "urls_0 = target_csv[target_csv['has_cactus']==0]['id'].values\n",
        "\n",
        "train_rows_1 = int(len(urls_1) * 0.8 )\n",
        "test_rows_1 = int(len(urls_1) * 0.2 )\n",
        "train_rows_0 = int(len(urls_0) * 0.8 )\n",
        "test_rows_0 = int(len(urls_0) * 0.2 )\n",
        "\n",
        "\n",
        "\n",
        "for file in urls_0[:train_rows_0]:\n",
        "    shutil.copy('/content/train/'+ file, '/content/data2/train/0/')\n",
        "\n",
        "for file in urls_1[:train_rows_1]:\n",
        "    shutil.copy('/content/train/'+ file, '/content/data2/train/1/')\n",
        "    \n",
        "    \n",
        "for file in urls_0[:test_rows_0]:\n",
        "    shutil.copy('/content/train/'+ file, '/content/data2/test/0/')\n",
        "\n",
        "for file in urls_1[:test_rows_1]:\n",
        "    shutil.copy('/content/train/'+ file, '/content/data2/test/1/')"
      ],
      "execution_count": 0,
      "outputs": []
    },
    {
      "cell_type": "markdown",
      "metadata": {
        "id": "6qfiFkDWhkEE",
        "colab_type": "text"
      },
      "source": [
        "## **Image Augmentation with base model**"
      ]
    },
    {
      "cell_type": "code",
      "metadata": {
        "id": "PxkQWbCGhsl_",
        "colab_type": "code",
        "outputId": "4bd0b992-9c97-4406-cf97-3cf38e2d590e",
        "colab": {
          "base_uri": "https://localhost:8080/",
          "height": 1340
        }
      },
      "source": [
        "batch_size=128\n",
        "\n",
        "\n",
        "train_datagen = ImageDataGenerator(rescale=1./255)\n",
        "\n",
        "# train_datagen = ImageDataGenerator(\n",
        "#         rescale=1./255,\n",
        "#         shear_range=0.2,\n",
        "#         zoom_range=0.2,\n",
        "#         horizontal_flip=True, \n",
        "#         rotation_range=50,\n",
        "#         height_shift_range=0.1)\n",
        "\n",
        "# this is the augmentation configuration we will use for testing:\n",
        "# only rescaling\n",
        "test_datagen = ImageDataGenerator(rescale=1./255)\n",
        "\n",
        "# this is a generator that will read pictures found in\n",
        "# subfolers of 'data/train', and indefinitely generate\n",
        "# batches of augmented image data\n",
        "train_generator = train_datagen.flow_from_directory(\n",
        "        '/content/data2/train/',  # this is the target directory\n",
        "        target_size=(50, 50),  # all images will be resized to 50x50\n",
        "        batch_size=batch_size,\n",
        "        class_mode='categorical', shuffle=True)  # since we use binary_crossentropy loss, we need binary labels\n",
        "\n",
        "# this is a similar generator, for validation data\n",
        "test_generator = test_datagen.flow_from_directory(\n",
        "        '/content/data2/test/',\n",
        "        target_size=(50, 50),\n",
        "        batch_size=batch_size,\n",
        "        class_mode='categorical',         shuffle=True)\n",
        "\n",
        "\n",
        "history_cnn = cnn_small_bn.fit_generator(\n",
        "        train_generator,\n",
        "        steps_per_epoch=200 // batch_size,\n",
        "        epochs=30,\n",
        "        verbose=1)\n",
        "\n",
        "pd.DataFrame(history_cnn.history).plot()"
      ],
      "execution_count": 12,
      "outputs": [
        {
          "output_type": "stream",
          "text": [
            "Found 13999 images belonging to 2 classes.\n",
            "Found 3499 images belonging to 2 classes.\n",
            "Epoch 1/30\n",
            "110/110 [==============================] - 6s 57ms/step - loss: 0.1024 - acc: 0.9625\n",
            "Epoch 2/30\n",
            "110/110 [==============================] - 6s 55ms/step - loss: 0.0849 - acc: 0.9664\n",
            "Epoch 3/30\n",
            "110/110 [==============================] - 6s 53ms/step - loss: 0.0816 - acc: 0.9696\n",
            "Epoch 4/30\n",
            "110/110 [==============================] - 6s 54ms/step - loss: 0.0743 - acc: 0.9713\n",
            "Epoch 5/30\n",
            "110/110 [==============================] - 6s 54ms/step - loss: 0.0713 - acc: 0.9739\n",
            "Epoch 6/30\n",
            "110/110 [==============================] - 6s 54ms/step - loss: 0.0685 - acc: 0.9754\n",
            "Epoch 7/30\n",
            "110/110 [==============================] - 6s 54ms/step - loss: 0.0669 - acc: 0.9739\n",
            "Epoch 8/30\n",
            "110/110 [==============================] - 6s 55ms/step - loss: 0.0669 - acc: 0.9741\n",
            "Epoch 9/30\n",
            "110/110 [==============================] - 6s 55ms/step - loss: 0.0635 - acc: 0.9780\n",
            "Epoch 10/30\n",
            "110/110 [==============================] - 6s 54ms/step - loss: 0.0638 - acc: 0.9766\n",
            "Epoch 11/30\n",
            "110/110 [==============================] - 6s 55ms/step - loss: 0.0639 - acc: 0.9756\n",
            "Epoch 12/30\n",
            "110/110 [==============================] - 6s 55ms/step - loss: 0.0631 - acc: 0.9768\n",
            "Epoch 13/30\n",
            "110/110 [==============================] - 6s 54ms/step - loss: 0.0642 - acc: 0.9756\n",
            "Epoch 14/30\n",
            "110/110 [==============================] - 6s 54ms/step - loss: 0.0649 - acc: 0.9752\n",
            "Epoch 15/30\n",
            "110/110 [==============================] - 6s 55ms/step - loss: 0.0576 - acc: 0.9793\n",
            "Epoch 16/30\n",
            "110/110 [==============================] - 6s 54ms/step - loss: 0.0615 - acc: 0.9764\n",
            "Epoch 17/30\n",
            "110/110 [==============================] - 6s 54ms/step - loss: 0.0614 - acc: 0.9763\n",
            "Epoch 18/30\n",
            "110/110 [==============================] - 6s 54ms/step - loss: 0.0585 - acc: 0.9776\n",
            "Epoch 19/30\n",
            "110/110 [==============================] - 6s 54ms/step - loss: 0.0571 - acc: 0.9802\n",
            "Epoch 20/30\n",
            "110/110 [==============================] - 6s 54ms/step - loss: 0.0637 - acc: 0.9764\n",
            "Epoch 21/30\n",
            "110/110 [==============================] - 6s 54ms/step - loss: 0.0581 - acc: 0.9786\n",
            "Epoch 22/30\n",
            "110/110 [==============================] - 6s 55ms/step - loss: 0.0588 - acc: 0.9776\n",
            "Epoch 23/30\n",
            "110/110 [==============================] - 6s 54ms/step - loss: 0.0548 - acc: 0.9791\n",
            "Epoch 24/30\n",
            "110/110 [==============================] - 6s 54ms/step - loss: 0.0583 - acc: 0.9779\n",
            "Epoch 25/30\n",
            "110/110 [==============================] - 6s 54ms/step - loss: 0.0565 - acc: 0.9785\n",
            "Epoch 26/30\n",
            "110/110 [==============================] - 6s 54ms/step - loss: 0.0536 - acc: 0.9795\n",
            "Epoch 27/30\n",
            "110/110 [==============================] - 6s 54ms/step - loss: 0.0561 - acc: 0.9783\n",
            "Epoch 28/30\n",
            "110/110 [==============================] - 6s 55ms/step - loss: 0.0471 - acc: 0.9821\n",
            "Epoch 29/30\n",
            "110/110 [==============================] - 6s 55ms/step - loss: 0.0543 - acc: 0.9804\n",
            "Epoch 30/30\n",
            "110/110 [==============================] - 6s 54ms/step - loss: 0.0553 - acc: 0.9788\n"
          ],
          "name": "stdout"
        },
        {
          "output_type": "execute_result",
          "data": {
            "text/plain": [
              "<matplotlib.axes._subplots.AxesSubplot at 0x7f821156ca90>"
            ]
          },
          "metadata": {
            "tags": []
          },
          "execution_count": 12
        },
        {
          "output_type": "display_data",
          "data": {
            "image/png": "[encoded data removed]",
            "text/plain": [
              "<Figure size 432x288 with 1 Axes>"
            ]
          },
          "metadata": {
            "tags": []
          }
        }
      ]
    },
    {
      "cell_type": "code",
      "metadata": {
        "id": "-Q8gtIkwt7tW",
        "colab_type": "code",
        "outputId": "769e3d79-ef96-47aa-a071-8ccd8ffb97ac",
        "colab": {
          "base_uri": "https://localhost:8080/",
          "height": 34
        }
      },
      "source": [
        "#test_generator.reset()\n",
        "\n",
        "pred = cnn_small_bn.predict_generator(test_generator)\n",
        "predicted_class_indices = np.argmax(pred, axis = -1)\n",
        "classes = test_generator.classes[test_generator.index_array]\n",
        "\n",
        "roc_auc_score(classes, predicted_class_indices)"
      ],
      "execution_count": 15,
      "outputs": [
        {
          "output_type": "execute_result",
          "data": {
            "text/plain": [
              "0.8083365055196041"
            ]
          },
          "metadata": {
            "tags": []
          },
          "execution_count": 15
        }
      ]
    },
    {
      "cell_type": "code",
      "metadata": {
        "id": "eVwTkVHcLocL",
        "colab_type": "code",
        "outputId": "c2557917-40dd-4a57-f1d7-4ecca4cd3907",
        "colab": {
          "base_uri": "https://localhost:8080/",
          "height": 1340
        }
      },
      "source": [
        "batch_size=128\n",
        "\n",
        "\n",
        "\n",
        "train_datagen = ImageDataGenerator(\n",
        "        rescale=1./255,\n",
        "        shear_range=0.2,\n",
        "        zoom_range=0.2,\n",
        "        horizontal_flip=True, \n",
        "        rotation_range=50,\n",
        "        height_shift_range=0.1)\n",
        "\n",
        "# this is the augmentation configuration we will use for testing:\n",
        "# only rescaling\n",
        "test_datagen = ImageDataGenerator(rescale=1./255)\n",
        "\n",
        "# this is a generator that will read pictures found in\n",
        "# subfolers of 'data/train', and indefinitely generate\n",
        "# batches of augmented image data\n",
        "train_generator = train_datagen.flow_from_directory(\n",
        "        '/content/data2/train/',  # this is the target directory\n",
        "        target_size=(50, 50),  # all images will be resized to 50x50\n",
        "        batch_size=batch_size,\n",
        "        class_mode='categorical', shuffle=True)  # since we use binary_crossentropy loss, we need binary labels\n",
        "\n",
        "# this is a similar generator, for validation data\n",
        "test_generator = test_datagen.flow_from_directory(\n",
        "        '/content/data2/test/',\n",
        "        target_size=(50, 50),\n",
        "        batch_size=batch_size,\n",
        "        class_mode='categorical',         shuffle=True)\n",
        "\n",
        "\n",
        "history_cnn = cnn_small_bn.fit_generator(\n",
        "        train_generator,\n",
        "        steps_per_epoch=200 // batch_size,\n",
        "        epochs=30,\n",
        "        verbose=1)\n",
        "\n",
        "pd.DataFrame(history_cnn.history).plot()"
      ],
      "execution_count": 16,
      "outputs": [
        {
          "output_type": "stream",
          "text": [
            "Found 13999 images belonging to 2 classes.\n",
            "Found 3499 images belonging to 2 classes.\n",
            "Epoch 1/30\n",
            "110/110 [==============================] - 19s 169ms/step - loss: 0.1050 - acc: 0.9609\n",
            "Epoch 2/30\n",
            "110/110 [==============================] - 19s 172ms/step - loss: 0.0928 - acc: 0.9644\n",
            "Epoch 3/30\n",
            "110/110 [==============================] - 19s 171ms/step - loss: 0.0968 - acc: 0.9631\n",
            "Epoch 4/30\n",
            "110/110 [==============================] - 19s 172ms/step - loss: 0.0860 - acc: 0.9671\n",
            "Epoch 5/30\n",
            "110/110 [==============================] - 19s 169ms/step - loss: 0.0851 - acc: 0.9666\n",
            "Epoch 6/30\n",
            "110/110 [==============================] - 19s 168ms/step - loss: 0.0929 - acc: 0.9651\n",
            "Epoch 7/30\n",
            "110/110 [==============================] - 18s 168ms/step - loss: 0.0896 - acc: 0.9662\n",
            "Epoch 8/30\n",
            "110/110 [==============================] - 19s 169ms/step - loss: 0.0814 - acc: 0.9704\n",
            "Epoch 9/30\n",
            "110/110 [==============================] - 18s 168ms/step - loss: 0.0772 - acc: 0.9685\n",
            "Epoch 10/30\n",
            "110/110 [==============================] - 19s 168ms/step - loss: 0.0779 - acc: 0.9686\n",
            "Epoch 11/30\n",
            "110/110 [==============================] - 19s 169ms/step - loss: 0.0816 - acc: 0.9689\n",
            "Epoch 12/30\n",
            "110/110 [==============================] - 19s 169ms/step - loss: 0.0799 - acc: 0.9715\n",
            "Epoch 13/30\n",
            "110/110 [==============================] - 19s 171ms/step - loss: 0.0805 - acc: 0.9691\n",
            "Epoch 14/30\n",
            "110/110 [==============================] - 19s 171ms/step - loss: 0.0790 - acc: 0.9699\n",
            "Epoch 15/30\n",
            "110/110 [==============================] - 19s 170ms/step - loss: 0.0774 - acc: 0.9698\n",
            "Epoch 16/30\n",
            "110/110 [==============================] - 18s 167ms/step - loss: 0.0749 - acc: 0.9708\n",
            "Epoch 17/30\n",
            "110/110 [==============================] - 19s 169ms/step - loss: 0.0795 - acc: 0.9699\n",
            "Epoch 18/30\n",
            "110/110 [==============================] - 19s 172ms/step - loss: 0.0810 - acc: 0.9681\n",
            "Epoch 19/30\n",
            "110/110 [==============================] - 19s 169ms/step - loss: 0.0813 - acc: 0.9704\n",
            "Epoch 20/30\n",
            "110/110 [==============================] - 19s 170ms/step - loss: 0.0778 - acc: 0.9694\n",
            "Epoch 21/30\n",
            "110/110 [==============================] - 19s 170ms/step - loss: 0.0836 - acc: 0.9688\n",
            "Epoch 22/30\n",
            "110/110 [==============================] - 19s 170ms/step - loss: 0.0755 - acc: 0.9721\n",
            "Epoch 23/30\n",
            "110/110 [==============================] - 18s 166ms/step - loss: 0.0794 - acc: 0.9688\n",
            "Epoch 24/30\n",
            "110/110 [==============================] - 18s 168ms/step - loss: 0.0785 - acc: 0.9695\n",
            "Epoch 25/30\n",
            "110/110 [==============================] - 19s 168ms/step - loss: 0.0791 - acc: 0.9686\n",
            "Epoch 26/30\n",
            "110/110 [==============================] - 18s 167ms/step - loss: 0.0801 - acc: 0.9688\n",
            "Epoch 27/30\n",
            "110/110 [==============================] - 19s 169ms/step - loss: 0.0804 - acc: 0.9706\n",
            "Epoch 28/30\n",
            "110/110 [==============================] - 19s 170ms/step - loss: 0.0739 - acc: 0.9721\n",
            "Epoch 29/30\n",
            "110/110 [==============================] - 19s 170ms/step - loss: 0.0724 - acc: 0.9718\n",
            "Epoch 30/30\n",
            "110/110 [==============================] - 19s 169ms/step - loss: 0.0728 - acc: 0.9741\n"
          ],
          "name": "stdout"
        },
        {
          "output_type": "execute_result",
          "data": {
            "text/plain": [
              "<matplotlib.axes._subplots.AxesSubplot at 0x7f82127e2518>"
            ]
          },
          "metadata": {
            "tags": []
          },
          "execution_count": 16
        },
        {
          "output_type": "display_data",
          "data": {
            "image/png": "[encoded data removed]",
            "text/plain": [
              "<Figure size 432x288 with 1 Axes>"
            ]
          },
          "metadata": {
            "tags": []
          }
        }
      ]
    },
    {
      "cell_type": "code",
      "metadata": {
        "id": "lcCWySH6LomU",
        "colab_type": "code",
        "outputId": "fbec19eb-8126-4471-8f68-4049d7ffc0e3",
        "colab": {
          "base_uri": "https://localhost:8080/",
          "height": 34
        }
      },
      "source": [
        "#test_generator.reset()\n",
        "\n",
        "pred = cnn_small_bn.predict_generator(test_generator)\n",
        "predicted_class_indices = np.argmax(pred, axis = -1)\n",
        "classes = test_generator.classes[test_generator.index_array]\n",
        "\n",
        "roc_auc_score(classes, predicted_class_indices)"
      ],
      "execution_count": 17,
      "outputs": [
        {
          "output_type": "execute_result",
          "data": {
            "text/plain": [
              "0.976955521874116"
            ]
          },
          "metadata": {
            "tags": []
          },
          "execution_count": 17
        }
      ]
    },
    {
      "cell_type": "markdown",
      "metadata": {
        "id": "mpfNHx3mmSPD",
        "colab_type": "text"
      },
      "source": [
        "## **Transfer Learning using Resnet**"
      ]
    },
    {
      "cell_type": "code",
      "metadata": {
        "id": "Ku6-cdTymRuL",
        "colab_type": "code",
        "outputId": "02af0d37-2710-4a53-a204-8eeb8117cc14",
        "colab": {
          "base_uri": "https://localhost:8080/",
          "height": 51
        }
      },
      "source": [
        "num_classes = 2\n",
        "model = Sequential()\n",
        "model.add(ResNet50(include_top=False, pooling='avg', weights='imagenet'))\n",
        "model.add(Dense(num_classes, activation='softmax'))\n",
        "\n",
        "# Do not train first layer (ResNet) as it is already pre-trained\n",
        "model.layers[0].trainable = False\n",
        "\n",
        "# Compile model \n",
        "model.compile(optimizer='adam', loss='categorical_crossentropy', \n",
        "              metrics=['accuracy'])"
      ],
      "execution_count": 18,
      "outputs": [
        {
          "output_type": "stream",
          "text": [
            "Downloading data from https://github.com/fchollet/deep-learning-models/releases/download/v0.2/resnet50_weights_tf_dim_ordering_tf_kernels_notop.h5\n",
            "94658560/94653016 [==============================] - 4s 0us/step\n"
          ],
          "name": "stdout"
        }
      ]
    },
    {
      "cell_type": "code",
      "metadata": {
        "id": "ycOHJSssnYEq",
        "colab_type": "code",
        "outputId": "e3bc9a5c-02a8-49d4-e221-d2f3d3491e31",
        "colab": {
          "base_uri": "https://localhost:8080/",
          "height": 660
        }
      },
      "source": [
        "BATCH_SIZE = 32\n",
        "HEIGHT = 50\n",
        "WIDTH = 50\n",
        "\n",
        "train_datagen =  ImageDataGenerator(\n",
        "          rescale=1.0/255.0\n",
        ")\n",
        "\n",
        "train_generator = train_datagen.flow_from_directory('/content/data2/train/', \n",
        "                                                    target_size=(HEIGHT, WIDTH), \n",
        "                                                    batch_size=BATCH_SIZE)\n",
        "\n",
        "test_generator = train_datagen.flow_from_directory('/content/data2/test/', \n",
        "                                                    target_size=(HEIGHT, WIDTH), \n",
        "                                                    batch_size=BATCH_SIZE)\n",
        "\n",
        "\n",
        "num_train_images= 13999\n",
        "history = model.fit_generator(train_generator, epochs=10, workers=8, \n",
        "                              steps_per_epoch=num_train_images // BATCH_SIZE,\n",
        "                                       shuffle=True)\n",
        "pd.DataFrame(history.history).plot()"
      ],
      "execution_count": 21,
      "outputs": [
        {
          "output_type": "stream",
          "text": [
            "Found 13999 images belonging to 2 classes.\n",
            "Found 3499 images belonging to 2 classes.\n",
            "Epoch 1/10\n",
            "438/438 [==============================] - 35s 79ms/step - loss: 0.1508 - acc: 0.9439\n",
            "Epoch 2/10\n",
            "438/438 [==============================] - 35s 80ms/step - loss: 0.0815 - acc: 0.9704\n",
            "Epoch 3/10\n",
            "438/438 [==============================] - 39s 89ms/step - loss: 0.0822 - acc: 0.9719\n",
            "Epoch 4/10\n",
            "438/438 [==============================] - 39s 90ms/step - loss: 0.0798 - acc: 0.9724\n",
            "Epoch 5/10\n",
            "438/438 [==============================] - 39s 89ms/step - loss: 0.0761 - acc: 0.9724\n",
            "Epoch 6/10\n",
            "438/438 [==============================] - 39s 89ms/step - loss: 0.0748 - acc: 0.9740\n",
            "Epoch 7/10\n",
            "438/438 [==============================] - 39s 89ms/step - loss: 0.0691 - acc: 0.9756\n",
            "Epoch 8/10\n",
            "438/438 [==============================] - 39s 90ms/step - loss: 0.0679 - acc: 0.9762\n",
            "Epoch 9/10\n",
            "438/438 [==============================] - 39s 89ms/step - loss: 0.0699 - acc: 0.9779\n",
            "Epoch 10/10\n",
            "438/438 [==============================] - 39s 89ms/step - loss: 0.0654 - acc: 0.9791\n"
          ],
          "name": "stdout"
        },
        {
          "output_type": "execute_result",
          "data": {
            "text/plain": [
              "<matplotlib.axes._subplots.AxesSubplot at 0x7f81fcded400>"
            ]
          },
          "metadata": {
            "tags": []
          },
          "execution_count": 21
        },
        {
          "output_type": "display_data",
          "data": {
            "image/png": "[encoded data removed]",
            "text/plain": [
              "<Figure size 432x288 with 1 Axes>"
            ]
          },
          "metadata": {
            "tags": []
          }
        }
      ]
    },
    {
      "cell_type": "code",
      "metadata": {
        "id": "mUf_vWtnZkbz",
        "colab_type": "code",
        "outputId": "19514d35-55d8-4d4e-ba20-085690c2b904",
        "colab": {
          "base_uri": "https://localhost:8080/",
          "height": 34
        }
      },
      "source": [
        "pred = model.predict_generator(test_generator)\n",
        "predicted_class_indices = np.argmax(pred, axis = -1)\n",
        "classes = test_generator.classes[test_generator.index_array]\n",
        "\n",
        "roc_auc_score(classes, predicted_class_indices)"
      ],
      "execution_count": 23,
      "outputs": [
        {
          "output_type": "execute_result",
          "data": {
            "text/plain": [
              "0.9665695948565183"
            ]
          },
          "metadata": {
            "tags": []
          },
          "execution_count": 23
        }
      ]
    },
    {
      "cell_type": "code",
      "metadata": {
        "id": "qQA8C5aRO6NY",
        "colab_type": "code",
        "outputId": "3e8f2eea-2c39-40ad-bd8e-006c860bf938",
        "colab": {
          "base_uri": "https://localhost:8080/",
          "height": 660
        }
      },
      "source": [
        "\n",
        "\n",
        "BATCH_SIZE = 32\n",
        "HEIGHT = 50\n",
        "WIDTH = 50\n",
        "\n",
        "\n",
        "train_datagen = ImageDataGenerator(\n",
        "        rescale=1./255,\n",
        "        shear_range=0.2,\n",
        "        zoom_range=0.2,\n",
        "        horizontal_flip=True, \n",
        "        rotation_range=50,\n",
        "        height_shift_range=0.1)\n",
        "\n",
        "test_datagen =  ImageDataGenerator(\n",
        "          rescale=1.0/255.0\n",
        ")\n",
        "\n",
        "train_generator = train_datagen.flow_from_directory('/content/data2/train/', \n",
        "                                                    target_size=(HEIGHT, WIDTH), \n",
        "                                                    batch_size=BATCH_SIZE)\n",
        "\n",
        "test_generator = test_datagen.flow_from_directory('/content/data2/test/', \n",
        "                                                    target_size=(HEIGHT, WIDTH), \n",
        "                                                    batch_size=BATCH_SIZE)\n",
        "\n",
        "\n",
        "num_train_images= 13999\n",
        "history = model.fit_generator(train_generator, epochs=10, workers=8, \n",
        "                              steps_per_epoch=num_train_images // BATCH_SIZE,\n",
        "                                       shuffle=True)\n",
        "pd.DataFrame(history.history).plot()"
      ],
      "execution_count": 24,
      "outputs": [
        {
          "output_type": "stream",
          "text": [
            "Found 13999 images belonging to 2 classes.\n",
            "Found 3499 images belonging to 2 classes.\n",
            "Epoch 1/10\n",
            "438/438 [==============================] - 36s 83ms/step - loss: 0.1622 - acc: 0.9536\n",
            "Epoch 2/10\n",
            "438/438 [==============================] - 40s 92ms/step - loss: 0.1301 - acc: 0.9588\n",
            "Epoch 3/10\n",
            "438/438 [==============================] - 40s 92ms/step - loss: 0.1339 - acc: 0.9562\n",
            "Epoch 4/10\n",
            "438/438 [==============================] - 40s 92ms/step - loss: 0.1265 - acc: 0.9607\n",
            "Epoch 5/10\n",
            "438/438 [==============================] - 40s 92ms/step - loss: 0.1210 - acc: 0.9594\n",
            "Epoch 6/10\n",
            "438/438 [==============================] - 40s 92ms/step - loss: 0.1189 - acc: 0.9613\n",
            "Epoch 7/10\n",
            "438/438 [==============================] - 40s 92ms/step - loss: 0.1236 - acc: 0.9594\n",
            "Epoch 8/10\n",
            "438/438 [==============================] - 40s 92ms/step - loss: 0.1257 - acc: 0.9599\n",
            "Epoch 9/10\n",
            "438/438 [==============================] - 41s 93ms/step - loss: 0.1159 - acc: 0.9610\n",
            "Epoch 10/10\n",
            "438/438 [==============================] - 40s 92ms/step - loss: 0.1239 - acc: 0.9613\n"
          ],
          "name": "stdout"
        },
        {
          "output_type": "execute_result",
          "data": {
            "text/plain": [
              "<matplotlib.axes._subplots.AxesSubplot at 0x7f8211ee2ac8>"
            ]
          },
          "metadata": {
            "tags": []
          },
          "execution_count": 24
        },
        {
          "output_type": "display_data",
          "data": {
            "image/png": "[encoded data removed]",
            "text/plain": [
              "<Figure size 432x288 with 1 Axes>"
            ]
          },
          "metadata": {
            "tags": []
          }
        }
      ]
    },
    {
      "cell_type": "code",
      "metadata": {
        "id": "eSzI-rRbVdOJ",
        "colab_type": "code",
        "outputId": "e6db4ab3-c83e-4fd1-88f2-16a0432a1d44",
        "colab": {
          "base_uri": "https://localhost:8080/",
          "height": 34
        }
      },
      "source": [
        "#test_generator.reset()\n",
        "\n",
        "pred = model.predict_generator(test_generator)\n",
        "predicted_class_indices = np.argmax(pred, axis = -1)\n",
        "classes = test_generator.classes[test_generator.index_array]\n",
        "\n",
        "roc_auc_score(classes, predicted_class_indices)"
      ],
      "execution_count": 25,
      "outputs": [
        {
          "output_type": "execute_result",
          "data": {
            "text/plain": [
              "0.933886108617986"
            ]
          },
          "metadata": {
            "tags": []
          },
          "execution_count": 25
        }
      ]
    }
  ]
}