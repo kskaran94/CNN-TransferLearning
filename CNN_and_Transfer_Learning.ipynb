{
  "nbformat": 4,
  "nbformat_minor": 0,
  "metadata": {
    "colab": {
      "name": "CNN and Transfer Learning",
      "version": "0.3.2",
      "provenance": [],
      "collapsed_sections": [],
      "include_colab_link": true
    },
    "kernelspec": {
      "name": "python3",
      "display_name": "Python 3"
    },
    "accelerator": "GPU"
  },
  "cells": [
    {
      "cell_type": "markdown",
      "metadata": {
        "id": "view-in-github",
        "colab_type": "text"
      },
      "source": [
        "<a href=\"https://colab.research.google.com/github/kskaran94/CNN-TransferLearning/blob/master/CNN_and_Transfer_Learning.ipynb\" target=\"_parent\"><img src=\"https://colab.research.google.com/assets/colab-badge.svg\" alt=\"Open In Colab\"/></a>"
      ]
    },
    {
      "cell_type": "markdown",
      "metadata": {
        "id": "Rbnp_FVY5ezv",
        "colab_type": "text"
      },
      "source": [
        "The following script has been written in Google colab notebook. \n",
        "The data set is available on kaggle. The aim of the script is not to get a perfect score on Kaggle leaderboard but to understand Convolution Neural Networks and Transfer learning.  I have used only the train dataset here. \n"
      ]
    },
    {
      "cell_type": "markdown",
      "metadata": {
        "id": "PvxONO_V6LY3",
        "colab_type": "text"
      },
      "source": [
        "## **Libraries Imported**"
      ]
    },
    {
      "cell_type": "code",
      "metadata": {
        "id": "skdmTVZK5O5m",
        "colab_type": "code",
        "colab": {}
      },
      "source": [
        "import tensorflow as tf\n",
        "import numpy as np\n",
        "from tensorflow.keras.preprocessing import image\n",
        "from google.colab import files\n",
        "from tensorflow.keras.applications.resnet50 import ResNet50, preprocess_input\n",
        "import json\n",
        "from glob import glob\n",
        "import fnmatch\n",
        "import cv2\n",
        "import pandas as pd\n",
        "import numpy as np\n",
        "from sklearn.model_selection import train_test_split\n",
        "from tensorflow.keras.layers import Conv2D, MaxPooling2D, Flatten, Activation, \\\n",
        "Dense, Dropout, Input, add\n",
        "from tensorflow.keras import Sequential\n",
        "from tensorflow.keras.layers import BatchNormalization\n",
        "from tensorflow.keras.utils import to_categorical\n",
        "from tensorflow.keras.preprocessing.image import ImageDataGenerator\n",
        "from tensorflow.keras.models import Sequential, Model\n",
        "from sklearn.metrics import accuracy_score, roc_auc_score\n",
        "import os\n",
        "import shutil\n",
        "import warnings\n",
        "warnings.filterwarnings('ignore')\n"
      ],
      "execution_count": 0,
      "outputs": []
    },
    {
      "cell_type": "code",
      "metadata": {
        "id": "JET9FzPM61h9",
        "colab_type": "code",
        "outputId": "a7c86d67-f1b7-4aa1-9e44-9ca7ff618fb0",
        "colab": {
          "resources": {
            "http://localhost:8080/nbextensions/google.colab/files.js": {
              "data": "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",
              "ok": true,
              "headers": [
                [
                  "content-type",
                  "application/javascript"
                ]
              ],
              "status": 200,
              "status_text": ""
            }
          },
          "base_uri": "https://localhost:8080/",
          "height": 37
        }
      },
      "source": [
        "uploaded = files.upload()\n"
      ],
      "execution_count": 2,
      "outputs": [
        {
          "output_type": "display_data",
          "data": {
            "text/html": [
              "\n",
              "     <input type=\"file\" id=\"files-3d0b84d8-92a6-4f18-9d0d-4fc3d4088d53\" name=\"files[]\" multiple disabled />\n",
              "     <output id=\"result-3d0b84d8-92a6-4f18-9d0d-4fc3d4088d53\">\n",
              "      Upload widget is only available when the cell has been executed in the\n",
              "      current browser session. Please rerun this cell to enable.\n",
              "      </output>\n",
              "      <script src=\"/nbextensions/google.colab/files.js\"></script> "
            ],
            "text/plain": [
              "<IPython.core.display.HTML object>"
            ]
          },
          "metadata": {
            "tags": []
          }
        }
      ]
    },
    {
      "cell_type": "markdown",
      "metadata": {
        "id": "Uam2mDzYDGXA",
        "colab_type": "text"
      },
      "source": [
        "## **Reading Data**"
      ]
    },
    {
      "cell_type": "markdown",
      "metadata": {
        "id": "_swTcojN8FaN",
        "colab_type": "text"
      },
      "source": [
        "Downloading data from kaggle . If you have this data available , then you can skip this code cell"
      ]
    },
    {
      "cell_type": "code",
      "metadata": {
        "id": "A633hwCl68y3",
        "colab_type": "code",
        "outputId": "ab2a3f58-7e8f-4610-9cd2-2014402a105a",
        "colab": {
          "base_uri": "https://localhost:8080/",
          "height": 238
        }
      },
      "source": [
        "!pip install -q kaggle\n",
        "\n",
        "!mkdir -p ~/.kaggle\n",
        "!cp kaggle.json ~/.kaggle/\n",
        "\n",
        "token = {\"username\":\"kskaran94\",\"key\":\"67ffe4a038a3668b565ca33b1a78dd01\"}\n",
        "with open('/root/.kaggle/kaggle.json', 'w') as file:\n",
        "    json.dump(token, file)\n",
        "    \n",
        "! chmod 600 /root/.kaggle/kaggle.json\n",
        "\n",
        "! kaggle competitions download -c aerial-cactus-identification"
      ],
      "execution_count": 3,
      "outputs": [
        {
          "output_type": "stream",
          "text": [
            "cp: cannot stat 'kaggle.json': No such file or directory\n",
            "Downloading train.csv to /content\n",
            "  0% 0.00/667k [00:00<?, ?B/s]\n",
            "100% 667k/667k [00:00<00:00, 44.0MB/s]\n",
            "Downloading sample_submission.csv to /content\n",
            "  0% 0.00/160k [00:00<?, ?B/s]\n",
            "100% 160k/160k [00:00<00:00, 49.4MB/s]\n",
            "Downloading test.zip to /content\n",
            "  0% 0.00/4.20M [00:00<?, ?B/s]\n",
            "100% 4.20M/4.20M [00:00<00:00, 69.0MB/s]\n",
            "Downloading train.zip to /content\n",
            " 47% 9.00M/19.2M [00:00<00:00, 64.5MB/s]\n",
            "100% 19.2M/19.2M [00:00<00:00, 94.0MB/s]\n"
          ],
          "name": "stdout"
        }
      ]
    },
    {
      "cell_type": "code",
      "metadata": {
        "id": "5EoReX5E7-nd",
        "colab_type": "code",
        "colab": {}
      },
      "source": [
        "! unzip /content/train.zip\n",
        "! unzip /content/test.zip"
      ],
      "execution_count": 0,
      "outputs": []
    },
    {
      "cell_type": "markdown",
      "metadata": {
        "id": "wrE03Oe29PhW",
        "colab_type": "text"
      },
      "source": [
        "Read the target csv, which contains image url and the label. This csv will help us reorganize the data."
      ]
    },
    {
      "cell_type": "code",
      "metadata": {
        "id": "4ihRF1PJ8WpP",
        "colab_type": "code",
        "outputId": "926df117-111f-4b3f-b5a7-c1e948703194",
        "colab": {
          "base_uri": "https://localhost:8080/",
          "height": 204
        }
      },
      "source": [
        "target_csv = pd.read_csv('/content/train.csv')\n",
        "target_csv.head()"
      ],
      "execution_count": 5,
      "outputs": [
        {
          "output_type": "execute_result",
          "data": {
            "text/html": [
              "<div>\n",
              "<style scoped>\n",
              "    .dataframe tbody tr th:only-of-type {\n",
              "        vertical-align: middle;\n",
              "    }\n",
              "\n",
              "    .dataframe tbody tr th {\n",
              "        vertical-align: top;\n",
              "    }\n",
              "\n",
              "    .dataframe thead th {\n",
              "        text-align: right;\n",
              "    }\n",
              "</style>\n",
              "<table border=\"1\" class=\"dataframe\">\n",
              "  <thead>\n",
              "    <tr style=\"text-align: right;\">\n",
              "      <th></th>\n",
              "      <th>id</th>\n",
              "      <th>has_cactus</th>\n",
              "    </tr>\n",
              "  </thead>\n",
              "  <tbody>\n",
              "    <tr>\n",
              "      <th>0</th>\n",
              "      <td>0004be2cfeaba1c0361d39e2b000257b.jpg</td>\n",
              "      <td>1</td>\n",
              "    </tr>\n",
              "    <tr>\n",
              "      <th>1</th>\n",
              "      <td>000c8a36845c0208e833c79c1bffedd1.jpg</td>\n",
              "      <td>1</td>\n",
              "    </tr>\n",
              "    <tr>\n",
              "      <th>2</th>\n",
              "      <td>000d1e9a533f62e55c289303b072733d.jpg</td>\n",
              "      <td>1</td>\n",
              "    </tr>\n",
              "    <tr>\n",
              "      <th>3</th>\n",
              "      <td>0011485b40695e9138e92d0b3fb55128.jpg</td>\n",
              "      <td>1</td>\n",
              "    </tr>\n",
              "    <tr>\n",
              "      <th>4</th>\n",
              "      <td>0014d7a11e90b62848904c1418fc8cf2.jpg</td>\n",
              "      <td>1</td>\n",
              "    </tr>\n",
              "  </tbody>\n",
              "</table>\n",
              "</div>"
            ],
            "text/plain": [
              "                                     id  has_cactus\n",
              "0  0004be2cfeaba1c0361d39e2b000257b.jpg           1\n",
              "1  000c8a36845c0208e833c79c1bffedd1.jpg           1\n",
              "2  000d1e9a533f62e55c289303b072733d.jpg           1\n",
              "3  0011485b40695e9138e92d0b3fb55128.jpg           1\n",
              "4  0014d7a11e90b62848904c1418fc8cf2.jpg           1"
            ]
          },
          "metadata": {
            "tags": []
          },
          "execution_count": 5
        }
      ]
    },
    {
      "cell_type": "markdown",
      "metadata": {
        "id": "q-SDoohl9rCn",
        "colab_type": "text"
      },
      "source": [
        "Re-arranging the data and moving it into a target based folder structure"
      ]
    },
    {
      "cell_type": "code",
      "metadata": {
        "id": "n17DPvcR9qAa",
        "colab_type": "code",
        "colab": {}
      },
      "source": [
        "\n",
        "!mkdir /content/data/\n",
        "!mkdir /content/data/0/\n",
        "!mkdir /content/data/1/\n",
        "\n",
        "\n",
        "urls_1 = target_csv[target_csv['has_cactus']==1]['id'].values\n",
        "urls_0 = target_csv[target_csv['has_cactus']==0]['id'].values\n",
        "\n",
        "\n",
        "\n",
        "for file in urls_0:\n",
        "    shutil.copy('/content/train/'+ file, '/content/data/0/')\n",
        "\n",
        "for file in urls_1:\n",
        "    shutil.copy('/content/train/'+ file, '/content/data/1/')"
      ],
      "execution_count": 0,
      "outputs": []
    },
    {
      "cell_type": "markdown",
      "metadata": {
        "id": "9X8RPDs3DOHo",
        "colab_type": "text"
      },
      "source": [
        "## **Data Transformation**"
      ]
    },
    {
      "cell_type": "markdown",
      "metadata": {
        "id": "USf5X0vmBtnc",
        "colab_type": "text"
      },
      "source": [
        "Reading a sub sample of class 0 images and re -sizing them with height and width=50. The images are read in X and the labels in Y. The same process is repeated for class 1 images.\n",
        "\n",
        "All the images have to be of the same size , hence the resizing is necessary."
      ]
    },
    {
      "cell_type": "code",
      "metadata": {
        "id": "VAI7iIhgBK-V",
        "colab_type": "code",
        "colab": {}
      },
      "source": [
        "x = []\n",
        "y = []\n",
        "WIDTH = 50\n",
        "HEIGHT = 50\n",
        "\n",
        "for img in urls_0:\n",
        "    full_size_image = cv2.imread('/content/data/0/'+img)\n",
        "    x.append(cv2.resize(full_size_image, (WIDTH,HEIGHT), \n",
        "                      interpolation=cv2.INTER_CUBIC))\n",
        "    y.append(0)\n",
        "    \n",
        "for img in urls_1:\n",
        "    full_size_image = cv2.imread('/content/data/1/'+img)\n",
        "    x.append(cv2.resize(full_size_image, (WIDTH,HEIGHT), \n",
        "                      interpolation=cv2.INTER_CUBIC))\n",
        "    y.append(1)"
      ],
      "execution_count": 0,
      "outputs": []
    },
    {
      "cell_type": "markdown",
      "metadata": {
        "id": "9L3ZBcI5CO7T",
        "colab_type": "text"
      },
      "source": [
        "Preprocessing of images: Dividing image by 255 for standarization. We could also transform the images from RGB to gray scale.\n",
        "\n",
        "Dividing the images into train and test with stratified sampling. So the distribution across train and test remain the same"
      ]
    },
    {
      "cell_type": "markdown",
      "metadata": {
        "id": "S931hZD6DYps",
        "colab_type": "text"
      },
      "source": [
        "## **Train-test split**"
      ]
    },
    {
      "cell_type": "code",
      "metadata": {
        "id": "8TkUC5oxCEWs",
        "colab_type": "code",
        "outputId": "7f0a4e2f-cc75-4a4d-9aab-f714dcf9f671",
        "colab": {
          "base_uri": "https://localhost:8080/",
          "height": 51
        }
      },
      "source": [
        "X=np.array(x)\n",
        "X = X/255\n",
        "\n",
        "X_train, X_test, Y_train, Y_test = train_test_split(X, y, test_size=0.2,\n",
        "                                                    stratify = y)\n",
        "\n",
        "\n",
        "\n",
        "print(\"Training Data Shape:\", X_train.shape)\n",
        "print(\"Testing Data Shape:\", X_test.shape)"
      ],
      "execution_count": 8,
      "outputs": [
        {
          "output_type": "stream",
          "text": [
            "Training Data Shape: (14000, 50, 50, 3)\n",
            "Testing Data Shape: (3500, 50, 50, 3)\n"
          ],
          "name": "stdout"
        }
      ]
    },
    {
      "cell_type": "markdown",
      "metadata": {
        "id": "tG8SAl6NC8ax",
        "colab_type": "text"
      },
      "source": [
        "## **Base Model**"
      ]
    },
    {
      "cell_type": "markdown",
      "metadata": {
        "id": "IdcmIxxOClVY",
        "colab_type": "text"
      },
      "source": [
        "Defining the neural network: For simplicity of the problem I have kept 2 convolution layers with kernel_size (3,3), followed by batch normalization ,Max pooling of (2,2) and Dropout.\n",
        "\n",
        "The drop out parameter , Max pool size can be tuned but due to restriction of computational resources , I was unable to. The same can be said for kernel size."
      ]
    },
    {
      "cell_type": "code",
      "metadata": {
        "id": "RMevnCtsCkhY",
        "colab_type": "code",
        "outputId": "9b44cdc4-c886-4850-a14c-0973baea0138",
        "colab": {
          "base_uri": "https://localhost:8080/",
          "height": 1496
        }
      },
      "source": [
        "num_classes = 2\n",
        "input_shape = (50, 50, 3)\n",
        "\n",
        "\n",
        "cnn_small_bn = Sequential([\n",
        "    Conv2D(8, kernel_size = (3,3), input_shape=input_shape, activation='relu'),\n",
        "    BatchNormalization(),\n",
        "    MaxPooling2D(pool_size=(2, 2)),\n",
        "    Dropout(.5),\n",
        "    Conv2D(8, kernel_size = (3,3), activation='relu'),\n",
        "    BatchNormalization(),\n",
        "    MaxPooling2D(pool_size=(2, 2)),\n",
        "    Dropout(.5),\n",
        "    Flatten(),\n",
        "    Dense(num_classes, activation='softmax'),\n",
        "                 ])\n",
        "\n",
        "y_train = to_categorical(Y_train, num_classes)\n",
        "y_test = to_categorical(Y_test, num_classes)\n",
        "\n",
        "cnn_small_bn.compile(\"adam\", \"binary_crossentropy\", metrics=['accuracy'])\n",
        "history_cnn = cnn_small_bn.fit(X_train, y_train,\n",
        "                      batch_size=128, epochs=30, verbose=2, validation_split=.1)\n",
        "pd.DataFrame(history_cnn.history).plot()"
      ],
      "execution_count": 9,
      "outputs": [
        {
          "output_type": "stream",
          "text": [
            "WARNING:tensorflow:From /usr/local/lib/python3.6/dist-packages/tensorflow/python/ops/resource_variable_ops.py:435: colocate_with (from tensorflow.python.framework.ops) is deprecated and will be removed in a future version.\n",
            "Instructions for updating:\n",
            "Colocations handled automatically by placer.\n",
            "WARNING:tensorflow:From /usr/local/lib/python3.6/dist-packages/tensorflow/python/keras/layers/core.py:143: calling dropout (from tensorflow.python.ops.nn_ops) with keep_prob is deprecated and will be removed in a future version.\n",
            "Instructions for updating:\n",
            "Please use `rate` instead of `keep_prob`. Rate should be set to `rate = 1 - keep_prob`.\n",
            "Train on 12600 samples, validate on 1400 samples\n",
            "WARNING:tensorflow:From /usr/local/lib/python3.6/dist-packages/tensorflow/python/ops/math_ops.py:3066: to_int32 (from tensorflow.python.ops.math_ops) is deprecated and will be removed in a future version.\n",
            "Instructions for updating:\n",
            "Use tf.cast instead.\n",
            "Epoch 1/30\n",
            " - 5s - loss: 0.4445 - acc: 0.8656 - val_loss: 1.7743 - val_acc: 0.2443\n",
            "Epoch 2/30\n",
            " - 1s - loss: 0.1825 - acc: 0.9379 - val_loss: 2.1664 - val_acc: 0.2443\n",
            "Epoch 3/30\n",
            " - 1s - loss: 0.1458 - acc: 0.9507 - val_loss: 1.6743 - val_acc: 0.2500\n",
            "Epoch 4/30\n",
            " - 1s - loss: 0.1349 - acc: 0.9519 - val_loss: 1.3172 - val_acc: 0.3693\n",
            "Epoch 5/30\n",
            " - 1s - loss: 0.1322 - acc: 0.9536 - val_loss: 0.6259 - val_acc: 0.6971\n",
            "Epoch 6/30\n",
            " - 1s - loss: 0.1204 - acc: 0.9572 - val_loss: 0.3167 - val_acc: 0.8529\n",
            "Epoch 7/30\n",
            " - 1s - loss: 0.1140 - acc: 0.9579 - val_loss: 0.2489 - val_acc: 0.8900\n",
            "Epoch 8/30\n",
            " - 1s - loss: 0.1144 - acc: 0.9570 - val_loss: 0.1177 - val_acc: 0.9579\n",
            "Epoch 9/30\n",
            " - 1s - loss: 0.1071 - acc: 0.9606 - val_loss: 0.1872 - val_acc: 0.9307\n",
            "Epoch 10/30\n",
            " - 1s - loss: 0.0990 - acc: 0.9626 - val_loss: 0.3788 - val_acc: 0.8514\n",
            "Epoch 11/30\n",
            " - 1s - loss: 0.0960 - acc: 0.9638 - val_loss: 0.1123 - val_acc: 0.9500\n",
            "Epoch 12/30\n",
            " - 1s - loss: 0.0949 - acc: 0.9642 - val_loss: 1.5209 - val_acc: 0.5814\n",
            "Epoch 13/30\n",
            " - 1s - loss: 0.0961 - acc: 0.9649 - val_loss: 0.1158 - val_acc: 0.9550\n",
            "Epoch 14/30\n",
            " - 1s - loss: 0.0911 - acc: 0.9657 - val_loss: 0.2240 - val_acc: 0.9043\n",
            "Epoch 15/30\n",
            " - 1s - loss: 0.0958 - acc: 0.9638 - val_loss: 0.1744 - val_acc: 0.9221\n",
            "Epoch 16/30\n",
            " - 1s - loss: 0.0869 - acc: 0.9663 - val_loss: 0.9605 - val_acc: 0.6507\n",
            "Epoch 17/30\n",
            " - 1s - loss: 0.0888 - acc: 0.9664 - val_loss: 0.3363 - val_acc: 0.8636\n",
            "Epoch 18/30\n",
            " - 1s - loss: 0.0832 - acc: 0.9681 - val_loss: 0.6135 - val_acc: 0.7807\n",
            "Epoch 19/30\n",
            " - 1s - loss: 0.0832 - acc: 0.9702 - val_loss: 1.0201 - val_acc: 0.6607\n",
            "Epoch 20/30\n",
            " - 1s - loss: 0.0756 - acc: 0.9717 - val_loss: 0.2009 - val_acc: 0.9107\n",
            "Epoch 21/30\n",
            " - 1s - loss: 0.0797 - acc: 0.9687 - val_loss: 0.2281 - val_acc: 0.9136\n",
            "Epoch 22/30\n",
            " - 1s - loss: 0.0784 - acc: 0.9706 - val_loss: 0.1382 - val_acc: 0.9443\n",
            "Epoch 23/30\n",
            " - 1s - loss: 0.0789 - acc: 0.9687 - val_loss: 0.0912 - val_acc: 0.9650\n",
            "Epoch 24/30\n",
            " - 1s - loss: 0.0757 - acc: 0.9700 - val_loss: 0.1103 - val_acc: 0.9493\n",
            "Epoch 25/30\n",
            " - 1s - loss: 0.0767 - acc: 0.9714 - val_loss: 0.0932 - val_acc: 0.9614\n",
            "Epoch 26/30\n",
            " - 1s - loss: 0.0746 - acc: 0.9710 - val_loss: 0.1261 - val_acc: 0.9521\n",
            "Epoch 27/30\n",
            " - 1s - loss: 0.0672 - acc: 0.9757 - val_loss: 0.2890 - val_acc: 0.8993\n",
            "Epoch 28/30\n",
            " - 1s - loss: 0.0699 - acc: 0.9738 - val_loss: 0.1567 - val_acc: 0.9329\n",
            "Epoch 29/30\n",
            " - 1s - loss: 0.0700 - acc: 0.9734 - val_loss: 0.3756 - val_acc: 0.8643\n",
            "Epoch 30/30\n",
            " - 1s - loss: 0.0677 - acc: 0.9747 - val_loss: 0.4151 - val_acc: 0.8486\n"
          ],
          "name": "stdout"
        },
        {
          "output_type": "execute_result",
          "data": {
            "text/plain": [
              "<matplotlib.axes._subplots.AxesSubplot at 0x7f879a35c828>"
            ]
          },
          "metadata": {
            "tags": []
          },
          "execution_count": 9
        },
        {
          "output_type": "display_data",
          "data": {
            "image/png": "[encoded data removed]",
            "text/plain": [
              "<Figure size 432x288 with 1 Axes>"
            ]
          },
          "metadata": {
            "tags": []
          }
        }
      ]
    },
    {
      "cell_type": "markdown",
      "metadata": {
        "id": "Y8UyhAHcMLzI",
        "colab_type": "text"
      },
      "source": [
        "The model performs well on both the train and validation tests."
      ]
    },
    {
      "cell_type": "code",
      "metadata": {
        "id": "356HDcbz6Ogv",
        "colab_type": "code",
        "outputId": "c95ad760-ffac-4c92-93e2-721ae304cd22",
        "colab": {
          "base_uri": "https://localhost:8080/",
          "height": 34
        }
      },
      "source": [
        "roc_auc_score(Y_test, cnn_small_bn.predict_classes(X_test))"
      ],
      "execution_count": 10,
      "outputs": [
        {
          "output_type": "execute_result",
          "data": {
            "text/plain": [
              "0.905213330071759"
            ]
          },
          "metadata": {
            "tags": []
          },
          "execution_count": 10
        }
      ]
    },
    {
      "cell_type": "markdown",
      "metadata": {
        "id": "s33evFN9obRu",
        "colab_type": "text"
      },
      "source": [
        "## **Data Segregation**"
      ]
    },
    {
      "cell_type": "code",
      "metadata": {
        "id": "SN7JghFIogQc",
        "colab_type": "code",
        "colab": {}
      },
      "source": [
        "!mkdir /content/data2/\n",
        "!mkdir /content/data2/train/\n",
        "!mkdir /content/data2/test/\n",
        "!mkdir /content/data2/train/0/\n",
        "!mkdir /content/data2/train/1/\n",
        "!mkdir /content/data2/test/0/\n",
        "!mkdir /content/data2/test/1/\n",
        "\n",
        "\n",
        "num_rows = target_csv.shape[0]\n",
        "\n",
        "\n",
        "\n",
        "\n",
        "urls_1 = target_csv[target_csv['has_cactus']==1]['id'].values\n",
        "urls_0 = target_csv[target_csv['has_cactus']==0]['id'].values\n",
        "\n",
        "train_rows_1 = int(len(urls_1) * 0.8 )\n",
        "test_rows_1 = int(len(urls_1) * 0.2 )\n",
        "train_rows_0 = int(len(urls_0) * 0.8 )\n",
        "test_rows_0 = int(len(urls_0) * 0.2 )\n",
        "\n",
        "\n",
        "\n",
        "for file in urls_0[:train_rows_0]:\n",
        "    shutil.copy('/content/train/'+ file, '/content/data2/train/0/')\n",
        "\n",
        "for file in urls_1[:train_rows_1]:\n",
        "    shutil.copy('/content/train/'+ file, '/content/data2/train/1/')\n",
        "    \n",
        "    \n",
        "for file in urls_0[:test_rows_0]:\n",
        "    shutil.copy('/content/train/'+ file, '/content/data2/test/0/')\n",
        "\n",
        "for file in urls_1[:test_rows_1]:\n",
        "    shutil.copy('/content/train/'+ file, '/content/data2/test/1/')"
      ],
      "execution_count": 0,
      "outputs": []
    },
    {
      "cell_type": "markdown",
      "metadata": {
        "id": "6qfiFkDWhkEE",
        "colab_type": "text"
      },
      "source": [
        "## **Image Augmentation with base model**"
      ]
    },
    {
      "cell_type": "code",
      "metadata": {
        "id": "PxkQWbCGhsl_",
        "colab_type": "code",
        "outputId": "597f7b01-b4cb-4a95-b9c6-c7e3ee8d8d10",
        "colab": {
          "base_uri": "https://localhost:8080/",
          "height": 1340
        }
      },
      "source": [
        "batch_size=128\n",
        "\n",
        "train_datagen = ImageDataGenerator(rescale=1./255)\n",
        "\n",
        "# this is the augmentation configuration we will use for testing:\n",
        "# only rescaling\n",
        "test_datagen = ImageDataGenerator(rescale=1./255)\n",
        "\n",
        "# this is a generator that will read pictures found in\n",
        "# subfolers of 'data/train', and indefinitely generate\n",
        "# batches of augmented image data\n",
        "train_generator = train_datagen.flow_from_directory(\n",
        "        '/content/data2/train/',  # this is the target directory\n",
        "        target_size=(50, 50),  # all images will be resized to 50x50\n",
        "        batch_size=batch_size,\n",
        "        class_mode='categorical', shuffle=True)  # since we use binary_crossentropy loss, we need binary labels\n",
        "\n",
        "# this is a similar generator, for validation data\n",
        "test_generator = test_datagen.flow_from_directory(\n",
        "        '/content/data2/test/',\n",
        "        target_size=(50, 50),\n",
        "        batch_size=batch_size,\n",
        "        class_mode='categorical',         shuffle=True)\n",
        "\n",
        "\n",
        "history_cnn = cnn_small_bn.fit_generator(\n",
        "        train_generator,\n",
        "        steps_per_epoch=200 // batch_size,\n",
        "        epochs=30,\n",
        "        verbose=1)\n",
        "\n",
        "pd.DataFrame(history_cnn.history).plot()"
      ],
      "execution_count": 12,
      "outputs": [
        {
          "output_type": "stream",
          "text": [
            "Found 13999 images belonging to 2 classes.\n",
            "Found 3499 images belonging to 2 classes.\n",
            "Epoch 1/30\n",
            "110/110 [==============================] - 4s 37ms/step - loss: 0.1170 - acc: 0.9577\n",
            "Epoch 2/30\n",
            "110/110 [==============================] - 4s 37ms/step - loss: 0.0974 - acc: 0.9625\n",
            "Epoch 3/30\n",
            "110/110 [==============================] - 4s 37ms/step - loss: 0.0902 - acc: 0.9662\n",
            "Epoch 4/30\n",
            "110/110 [==============================] - 4s 36ms/step - loss: 0.0883 - acc: 0.9656\n",
            "Epoch 5/30\n",
            "110/110 [==============================] - 4s 36ms/step - loss: 0.0887 - acc: 0.9661\n",
            "Epoch 6/30\n",
            "110/110 [==============================] - 4s 36ms/step - loss: 0.0833 - acc: 0.9662\n",
            "Epoch 7/30\n",
            "110/110 [==============================] - 4s 35ms/step - loss: 0.0802 - acc: 0.9699\n",
            "Epoch 8/30\n",
            "110/110 [==============================] - 4s 35ms/step - loss: 0.0818 - acc: 0.9701\n",
            "Epoch 9/30\n",
            "110/110 [==============================] - 4s 36ms/step - loss: 0.0789 - acc: 0.9694\n",
            "Epoch 10/30\n",
            "110/110 [==============================] - 4s 36ms/step - loss: 0.0786 - acc: 0.9721\n",
            "Epoch 11/30\n",
            "110/110 [==============================] - 4s 36ms/step - loss: 0.0750 - acc: 0.9724\n",
            "Epoch 12/30\n",
            "110/110 [==============================] - 4s 35ms/step - loss: 0.0764 - acc: 0.9708\n",
            "Epoch 13/30\n",
            "110/110 [==============================] - 4s 37ms/step - loss: 0.0704 - acc: 0.9735\n",
            "Epoch 14/30\n",
            "110/110 [==============================] - 4s 37ms/step - loss: 0.0680 - acc: 0.9741\n",
            "Epoch 15/30\n",
            "110/110 [==============================] - 4s 36ms/step - loss: 0.0695 - acc: 0.9738\n",
            "Epoch 16/30\n",
            "110/110 [==============================] - 4s 36ms/step - loss: 0.0727 - acc: 0.9732\n",
            "Epoch 17/30\n",
            "110/110 [==============================] - 4s 36ms/step - loss: 0.0719 - acc: 0.9721\n",
            "Epoch 18/30\n",
            "110/110 [==============================] - 4s 36ms/step - loss: 0.0708 - acc: 0.9731\n",
            "Epoch 19/30\n",
            "110/110 [==============================] - 4s 36ms/step - loss: 0.0636 - acc: 0.9743\n",
            "Epoch 20/30\n",
            "110/110 [==============================] - 4s 36ms/step - loss: 0.0676 - acc: 0.9743\n",
            "Epoch 21/30\n",
            "110/110 [==============================] - 4s 36ms/step - loss: 0.0622 - acc: 0.9769\n",
            "Epoch 22/30\n",
            "110/110 [==============================] - 4s 37ms/step - loss: 0.0684 - acc: 0.9733\n",
            "Epoch 23/30\n",
            "110/110 [==============================] - 4s 37ms/step - loss: 0.0636 - acc: 0.9764\n",
            "Epoch 24/30\n",
            "110/110 [==============================] - 4s 38ms/step - loss: 0.0676 - acc: 0.9747\n",
            "Epoch 25/30\n",
            "110/110 [==============================] - 4s 37ms/step - loss: 0.0642 - acc: 0.9751\n",
            "Epoch 26/30\n",
            "110/110 [==============================] - 4s 36ms/step - loss: 0.0663 - acc: 0.9743\n",
            "Epoch 27/30\n",
            "110/110 [==============================] - 4s 35ms/step - loss: 0.0594 - acc: 0.9781\n",
            "Epoch 28/30\n",
            "110/110 [==============================] - 4s 36ms/step - loss: 0.0590 - acc: 0.9764\n",
            "Epoch 29/30\n",
            "110/110 [==============================] - 4s 36ms/step - loss: 0.0576 - acc: 0.9785\n",
            "Epoch 30/30\n",
            "110/110 [==============================] - 4s 35ms/step - loss: 0.0626 - acc: 0.9759\n"
          ],
          "name": "stdout"
        },
        {
          "output_type": "execute_result",
          "data": {
            "text/plain": [
              "<matplotlib.axes._subplots.AxesSubplot at 0x7f8790664fd0>"
            ]
          },
          "metadata": {
            "tags": []
          },
          "execution_count": 12
        },
        {
          "output_type": "display_data",
          "data": {
            "image/png": "[encoded data removed]",
            "text/plain": [
              "<Figure size 432x288 with 1 Axes>"
            ]
          },
          "metadata": {
            "tags": []
          }
        }
      ]
    },
    {
      "cell_type": "code",
      "metadata": {
        "id": "-Q8gtIkwt7tW",
        "colab_type": "code",
        "outputId": "fc180cd4-d683-4cde-a61a-fee90975a362",
        "colab": {
          "base_uri": "https://localhost:8080/",
          "height": 34
        }
      },
      "source": [
        "test_generator.reset()\n",
        "\n",
        "pred = cnn_small_bn.predict_generator(test_generator)\n",
        "predicted_class_indices = np.argmax(pred, axis = -1)\n",
        "classes = test_generator.classes[test_generator.index_array]\n",
        "\n",
        "roc_auc_score(classes, predicted_class_indices)"
      ],
      "execution_count": 16,
      "outputs": [
        {
          "output_type": "execute_result",
          "data": {
            "text/plain": [
              "0.8955057832739058"
            ]
          },
          "metadata": {
            "tags": []
          },
          "execution_count": 16
        }
      ]
    },
    {
      "cell_type": "code",
      "metadata": {
        "id": "eVwTkVHcLocL",
        "colab_type": "code",
        "outputId": "3cb233f9-d25d-4b41-cbd8-80d8a68be04a",
        "colab": {
          "base_uri": "https://localhost:8080/",
          "height": 1340
        }
      },
      "source": [
        "batch_size=128\n",
        "\n",
        "\n",
        "\n",
        "train_datagen = ImageDataGenerator(\n",
        "        rescale=1./255,\n",
        "        shear_range=0.2,\n",
        "        zoom_range=0.2,\n",
        "        horizontal_flip=True, \n",
        "        rotation_range=50,\n",
        "        height_shift_range=0.1)\n",
        "\n",
        "# this is the augmentation configuration we will use for testing:\n",
        "# only rescaling\n",
        "test_datagen = ImageDataGenerator(rescale=1./255)\n",
        "\n",
        "# this is a generator that will read pictures found in\n",
        "# subfolers of 'data/train', and indefinitely generate\n",
        "# batches of augmented image data\n",
        "train_generator = train_datagen.flow_from_directory(\n",
        "        '/content/data2/train/',  # this is the target directory\n",
        "        target_size=(50, 50),  # all images will be resized to 50x50\n",
        "        batch_size=batch_size,\n",
        "        class_mode='categorical', shuffle=True)  # since we use binary_crossentropy loss, we need binary labels\n",
        "\n",
        "# this is a similar generator, for validation data\n",
        "test_generator = test_datagen.flow_from_directory(\n",
        "        '/content/data2/test/',\n",
        "        target_size=(50, 50),\n",
        "        batch_size=batch_size,\n",
        "        class_mode='categorical',         shuffle=True)\n",
        "\n",
        "\n",
        "history_cnn = cnn_small_bn.fit_generator(\n",
        "        train_generator,\n",
        "        steps_per_epoch=200 // batch_size,\n",
        "        epochs=30,\n",
        "        verbose=1)\n",
        "\n",
        "pd.DataFrame(history_cnn.history).plot()"
      ],
      "execution_count": 17,
      "outputs": [
        {
          "output_type": "stream",
          "text": [
            "Found 13999 images belonging to 2 classes.\n",
            "Found 3499 images belonging to 2 classes.\n",
            "Epoch 1/30\n",
            "110/110 [==============================] - 13s 119ms/step - loss: 0.0901 - acc: 0.9649\n",
            "Epoch 2/30\n",
            "110/110 [==============================] - 13s 118ms/step - loss: 0.0895 - acc: 0.9648\n",
            "Epoch 3/30\n",
            "110/110 [==============================] - 13s 119ms/step - loss: 0.0904 - acc: 0.9656\n",
            "Epoch 4/30\n",
            "110/110 [==============================] - 13s 119ms/step - loss: 0.0916 - acc: 0.9669\n",
            "Epoch 5/30\n",
            "110/110 [==============================] - 13s 119ms/step - loss: 0.0885 - acc: 0.9671\n",
            "Epoch 6/30\n",
            "110/110 [==============================] - 13s 120ms/step - loss: 0.0894 - acc: 0.9644\n",
            "Epoch 7/30\n",
            "110/110 [==============================] - 13s 121ms/step - loss: 0.0853 - acc: 0.9683\n",
            "Epoch 8/30\n",
            "110/110 [==============================] - 13s 120ms/step - loss: 0.0884 - acc: 0.9656\n",
            "Epoch 9/30\n",
            "110/110 [==============================] - 13s 119ms/step - loss: 0.0877 - acc: 0.9671\n",
            "Epoch 10/30\n",
            "110/110 [==============================] - 13s 120ms/step - loss: 0.0856 - acc: 0.9661\n",
            "Epoch 11/30\n",
            "110/110 [==============================] - 13s 118ms/step - loss: 0.0848 - acc: 0.9675\n",
            "Epoch 12/30\n",
            "110/110 [==============================] - 13s 118ms/step - loss: 0.0833 - acc: 0.9684\n",
            "Epoch 13/30\n",
            "110/110 [==============================] - 13s 121ms/step - loss: 0.0816 - acc: 0.9683\n",
            "Epoch 14/30\n",
            "110/110 [==============================] - 13s 119ms/step - loss: 0.0852 - acc: 0.9661\n",
            "Epoch 15/30\n",
            "110/110 [==============================] - 13s 119ms/step - loss: 0.0863 - acc: 0.9646\n",
            "Epoch 16/30\n",
            "110/110 [==============================] - 13s 119ms/step - loss: 0.0834 - acc: 0.9676\n",
            "Epoch 17/30\n",
            "110/110 [==============================] - 13s 119ms/step - loss: 0.0831 - acc: 0.9689\n",
            "Epoch 18/30\n",
            "110/110 [==============================] - 13s 119ms/step - loss: 0.0842 - acc: 0.9665\n",
            "Epoch 19/30\n",
            "110/110 [==============================] - 13s 120ms/step - loss: 0.0824 - acc: 0.9675\n",
            "Epoch 20/30\n",
            "110/110 [==============================] - 13s 119ms/step - loss: 0.0852 - acc: 0.9669\n",
            "Epoch 21/30\n",
            "110/110 [==============================] - 13s 121ms/step - loss: 0.0790 - acc: 0.9697\n",
            "Epoch 22/30\n",
            "110/110 [==============================] - 13s 120ms/step - loss: 0.0847 - acc: 0.9666\n",
            "Epoch 23/30\n",
            "110/110 [==============================] - 13s 121ms/step - loss: 0.0892 - acc: 0.9659\n",
            "Epoch 24/30\n",
            "110/110 [==============================] - 13s 123ms/step - loss: 0.0818 - acc: 0.9676\n",
            "Epoch 25/30\n",
            "110/110 [==============================] - 13s 121ms/step - loss: 0.0819 - acc: 0.9685\n",
            "Epoch 26/30\n",
            "110/110 [==============================] - 13s 120ms/step - loss: 0.0790 - acc: 0.9704\n",
            "Epoch 27/30\n",
            "110/110 [==============================] - 13s 119ms/step - loss: 0.0824 - acc: 0.9677\n",
            "Epoch 28/30\n",
            "110/110 [==============================] - 13s 119ms/step - loss: 0.0795 - acc: 0.9693\n",
            "Epoch 29/30\n",
            "110/110 [==============================] - 13s 119ms/step - loss: 0.0807 - acc: 0.9706\n",
            "Epoch 30/30\n",
            "110/110 [==============================] - 13s 119ms/step - loss: 0.0823 - acc: 0.9677\n"
          ],
          "name": "stdout"
        },
        {
          "output_type": "execute_result",
          "data": {
            "text/plain": [
              "<matplotlib.axes._subplots.AxesSubplot at 0x7f87785990f0>"
            ]
          },
          "metadata": {
            "tags": []
          },
          "execution_count": 17
        },
        {
          "output_type": "display_data",
          "data": {
            "image/png": "[encoded data removed]",
            "text/plain": [
              "<Figure size 432x288 with 1 Axes>"
            ]
          },
          "metadata": {
            "tags": []
          }
        }
      ]
    },
    {
      "cell_type": "code",
      "metadata": {
        "id": "lcCWySH6LomU",
        "colab_type": "code",
        "outputId": "234d19b3-509f-4766-e966-b3688193781a",
        "colab": {
          "base_uri": "https://localhost:8080/",
          "height": 34
        }
      },
      "source": [
        "#test_generator.reset()\n",
        "\n",
        "pred = cnn_small_bn.predict_generator(test_generator)\n",
        "predicted_class_indices = np.argmax(pred, axis = -1)\n",
        "classes = test_generator.classes[test_generator.index_array]\n",
        "\n",
        "roc_auc_score(classes, predicted_class_indices)"
      ],
      "execution_count": 18,
      "outputs": [
        {
          "output_type": "execute_result",
          "data": {
            "text/plain": [
              "0.894175866006852"
            ]
          },
          "metadata": {
            "tags": []
          },
          "execution_count": 18
        }
      ]
    },
    {
      "cell_type": "markdown",
      "metadata": {
        "id": "mpfNHx3mmSPD",
        "colab_type": "text"
      },
      "source": [
        "## **Transfer Learning using Resnet**"
      ]
    },
    {
      "cell_type": "code",
      "metadata": {
        "id": "Ku6-cdTymRuL",
        "colab_type": "code",
        "outputId": "938bc591-f32a-441f-b554-508bc6dc5e46",
        "colab": {
          "base_uri": "https://localhost:8080/",
          "height": 51
        }
      },
      "source": [
        "num_classes = 2\n",
        "model = Sequential()\n",
        "model.add(ResNet50(include_top=False, pooling='avg', weights='imagenet'))\n",
        "model.add(Dense(num_classes, activation='softmax'))\n",
        "\n",
        "# Do not train first layer (ResNet) as it is already pre-trained\n",
        "model.layers[0].trainable = False\n",
        "\n",
        "# Compile model \n",
        "model.compile(optimizer='adam', loss='categorical_crossentropy', \n",
        "              metrics=['accuracy'])"
      ],
      "execution_count": 19,
      "outputs": [
        {
          "output_type": "stream",
          "text": [
            "Downloading data from https://github.com/fchollet/deep-learning-models/releases/download/v0.2/resnet50_weights_tf_dim_ordering_tf_kernels_notop.h5\n",
            "94658560/94653016 [==============================] - 1s 0us/step\n"
          ],
          "name": "stdout"
        }
      ]
    },
    {
      "cell_type": "code",
      "metadata": {
        "id": "ycOHJSssnYEq",
        "colab_type": "code",
        "outputId": "d77056d8-254f-46da-b61b-a7018cdd6f05",
        "colab": {
          "base_uri": "https://localhost:8080/",
          "height": 660
        }
      },
      "source": [
        "BATCH_SIZE = 32\n",
        "HEIGHT = 50\n",
        "WIDTH = 50\n",
        "\n",
        "train_datagen =  ImageDataGenerator(\n",
        "          rescale=1.0/255.0\n",
        ")\n",
        "\n",
        "train_generator = train_datagen.flow_from_directory('/content/data2/train/', \n",
        "                                                    target_size=(HEIGHT, WIDTH), \n",
        "                                                    batch_size=BATCH_SIZE)\n",
        "\n",
        "test_generator = train_datagen.flow_from_directory('/content/data2/test/', \n",
        "                                                    target_size=(HEIGHT, WIDTH), \n",
        "                                                    batch_size=BATCH_SIZE)\n",
        "\n",
        "\n",
        "num_train_images= 13999\n",
        "history = model.fit_generator(train_generator, epochs=10, workers=8, \n",
        "                              steps_per_epoch=num_train_images // BATCH_SIZE,\n",
        "                                       shuffle=True)\n",
        "pd.DataFrame(history.history).plot()"
      ],
      "execution_count": 20,
      "outputs": [
        {
          "output_type": "stream",
          "text": [
            "Found 13999 images belonging to 2 classes.\n",
            "Found 3499 images belonging to 2 classes.\n",
            "Epoch 1/10\n",
            "438/438 [==============================] - 15s 34ms/step - loss: 0.1449 - acc: 0.9457\n",
            "Epoch 2/10\n",
            "438/438 [==============================] - 13s 30ms/step - loss: 0.0892 - acc: 0.9681\n",
            "Epoch 3/10\n",
            "438/438 [==============================] - 13s 31ms/step - loss: 0.0792 - acc: 0.9722\n",
            "Epoch 4/10\n",
            "438/438 [==============================] - 13s 31ms/step - loss: 0.0731 - acc: 0.9739\n",
            "Epoch 5/10\n",
            "438/438 [==============================] - 13s 31ms/step - loss: 0.0775 - acc: 0.9722\n",
            "Epoch 6/10\n",
            "438/438 [==============================] - 13s 30ms/step - loss: 0.0731 - acc: 0.9754\n",
            "Epoch 7/10\n",
            "438/438 [==============================] - 13s 30ms/step - loss: 0.0754 - acc: 0.9759\n",
            "Epoch 8/10\n",
            "438/438 [==============================] - 13s 30ms/step - loss: 0.0745 - acc: 0.9736\n",
            "Epoch 9/10\n",
            "438/438 [==============================] - 13s 30ms/step - loss: 0.0678 - acc: 0.9768\n",
            "Epoch 10/10\n",
            "438/438 [==============================] - 13s 30ms/step - loss: 0.0643 - acc: 0.9780\n"
          ],
          "name": "stdout"
        },
        {
          "output_type": "execute_result",
          "data": {
            "text/plain": [
              "<matplotlib.axes._subplots.AxesSubplot at 0x7f87553c3d30>"
            ]
          },
          "metadata": {
            "tags": []
          },
          "execution_count": 20
        },
        {
          "output_type": "display_data",
          "data": {
            "image/png": "[encoded data removed]",
            "text/plain": [
              "<Figure size 432x288 with 1 Axes>"
            ]
          },
          "metadata": {
            "tags": []
          }
        }
      ]
    },
    {
      "cell_type": "code",
      "metadata": {
        "id": "mUf_vWtnZkbz",
        "colab_type": "code",
        "outputId": "b4c9b56a-157b-40b0-93ec-f4d3ad479095",
        "colab": {
          "base_uri": "https://localhost:8080/",
          "height": 34
        }
      },
      "source": [
        "pred = model.predict_generator(test_generator)\n",
        "predicted_class_indices = np.argmax(pred, axis = -1)\n",
        "classes = test_generator.classes[test_generator.index_array]\n",
        "\n",
        "roc_auc_score(classes, predicted_class_indices)"
      ],
      "execution_count": 23,
      "outputs": [
        {
          "output_type": "execute_result",
          "data": {
            "text/plain": [
              "0.9488159741987756"
            ]
          },
          "metadata": {
            "tags": []
          },
          "execution_count": 23
        }
      ]
    },
    {
      "cell_type": "code",
      "metadata": {
        "id": "qQA8C5aRO6NY",
        "colab_type": "code",
        "outputId": "5faa2ef2-ee15-4e98-f5a4-9489748ef62c",
        "colab": {
          "base_uri": "https://localhost:8080/",
          "height": 660
        }
      },
      "source": [
        "\n",
        "\n",
        "BATCH_SIZE = 32\n",
        "HEIGHT = 50\n",
        "WIDTH = 50\n",
        "\n",
        "\n",
        "train_datagen = ImageDataGenerator(\n",
        "        rescale=1./255,\n",
        "        shear_range=0.2,\n",
        "        zoom_range=0.2,\n",
        "        horizontal_flip=True, \n",
        "        rotation_range=50,\n",
        "        height_shift_range=0.1)\n",
        "\n",
        "test_datagen =  ImageDataGenerator(\n",
        "          rescale=1.0/255.0\n",
        ")\n",
        "\n",
        "train_generator = train_datagen.flow_from_directory('/content/data2/train/', \n",
        "                                                    target_size=(HEIGHT, WIDTH), \n",
        "                                                    batch_size=BATCH_SIZE)\n",
        "\n",
        "test_generator = test_datagen.flow_from_directory('/content/data2/test/', \n",
        "                                                    target_size=(HEIGHT, WIDTH), \n",
        "                                                    batch_size=BATCH_SIZE)\n",
        "\n",
        "\n",
        "num_train_images= 13999\n",
        "history = model.fit_generator(train_generator, epochs=10, workers=8, \n",
        "                              steps_per_epoch=num_train_images // BATCH_SIZE,\n",
        "                                       shuffle=True)\n",
        "pd.DataFrame(history.history).plot()"
      ],
      "execution_count": 24,
      "outputs": [
        {
          "output_type": "stream",
          "text": [
            "Found 13999 images belonging to 2 classes.\n",
            "Found 3499 images belonging to 2 classes.\n",
            "Epoch 1/10\n",
            "438/438 [==============================] - 23s 52ms/step - loss: 0.1304 - acc: 0.9594\n",
            "Epoch 2/10\n",
            "438/438 [==============================] - 23s 52ms/step - loss: 0.1315 - acc: 0.9607\n",
            "Epoch 3/10\n",
            "438/438 [==============================] - 23s 53ms/step - loss: 0.1132 - acc: 0.9627\n",
            "Epoch 4/10\n",
            "438/438 [==============================] - 23s 53ms/step - loss: 0.1230 - acc: 0.9602\n",
            "Epoch 5/10\n",
            "438/438 [==============================] - 23s 52ms/step - loss: 0.1217 - acc: 0.9594\n",
            "Epoch 6/10\n",
            "438/438 [==============================] - 23s 52ms/step - loss: 0.1219 - acc: 0.9604\n",
            "Epoch 7/10\n",
            "438/438 [==============================] - 23s 53ms/step - loss: 0.1221 - acc: 0.9601\n",
            "Epoch 8/10\n",
            "438/438 [==============================] - 23s 52ms/step - loss: 0.1240 - acc: 0.9593\n",
            "Epoch 9/10\n",
            "438/438 [==============================] - 23s 52ms/step - loss: 0.1240 - acc: 0.9601\n",
            "Epoch 10/10\n",
            "438/438 [==============================] - 23s 52ms/step - loss: 0.1139 - acc: 0.9635\n"
          ],
          "name": "stdout"
        },
        {
          "output_type": "execute_result",
          "data": {
            "text/plain": [
              "<matplotlib.axes._subplots.AxesSubplot at 0x7f87573c1a90>"
            ]
          },
          "metadata": {
            "tags": []
          },
          "execution_count": 24
        },
        {
          "output_type": "display_data",
          "data": {
            "image/png": "[encoded data removed]",
            "text/plain": [
              "<Figure size 432x288 with 1 Axes>"
            ]
          },
          "metadata": {
            "tags": []
          }
        }
      ]
    },
    {
      "cell_type": "code",
      "metadata": {
        "id": "eSzI-rRbVdOJ",
        "colab_type": "code",
        "outputId": "c78d16a9-2dba-40e5-8aea-1ff683b6e81e",
        "colab": {
          "base_uri": "https://localhost:8080/",
          "height": 34
        }
      },
      "source": [
        "#test_generator.reset()\n",
        "\n",
        "pred = model.predict_generator(test_generator)\n",
        "predicted_class_indices = np.argmax(pred, axis = -1)\n",
        "classes = test_generator.classes[test_generator.index_array]\n",
        "\n",
        "roc_auc_score(classes, predicted_class_indices)"
      ],
      "execution_count": 25,
      "outputs": [
        {
          "output_type": "execute_result",
          "data": {
            "text/plain": [
              "0.9440192793258434"
            ]
          },
          "metadata": {
            "tags": []
          },
          "execution_count": 25
        }
      ]
    },
    {
      "cell_type": "markdown",
      "metadata": {
        "id": "5mP0hHmZExQq",
        "colab_type": "text"
      },
      "source": [
        "## **Saving the Model**"
      ]
    },
    {
      "cell_type": "code",
      "metadata": {
        "id": "tIV6Xvhs7IzM",
        "colab_type": "code",
        "colab": {}
      },
      "source": [
        "tf.keras.models.save_model(\n",
        "    model,\n",
        "    '/content/data/resnet_mod.h5',\n",
        "    overwrite=True,\n",
        "    include_optimizer=True\n",
        ")"
      ],
      "execution_count": 0,
      "outputs": []
    },
    {
      "cell_type": "markdown",
      "metadata": {
        "id": "3-QCDb2pFKv9",
        "colab_type": "text"
      },
      "source": [
        "## **Sample Prediction from Saved Model**"
      ]
    },
    {
      "cell_type": "code",
      "metadata": {
        "id": "xFE-BkI_7Y2s",
        "colab_type": "code",
        "outputId": "62442ae6-44c2-4334-e7eb-54025bf1777d",
        "colab": {
          "base_uri": "https://localhost:8080/",
          "height": 34
        }
      },
      "source": [
        "loaded_model = tf.keras.models.load_model(\n",
        "    '/content/data/resnet_mod.h5',\n",
        "    custom_objects=None,\n",
        "    compile=True\n",
        ")\n",
        "loaded_model._make_predict_function() "
      ],
      "execution_count": 28,
      "outputs": [
        {
          "output_type": "stream",
          "text": [
            "WARNING:tensorflow:Error in loading the saved optimizer state. As a result, your model is starting with a freshly initialized optimizer.\n"
          ],
          "name": "stdout"
        }
      ]
    },
    {
      "cell_type": "code",
      "metadata": {
        "id": "0kZm3k_AFPoV",
        "colab_type": "code",
        "colab": {
          "base_uri": "https://localhost:8080/",
          "height": 34
        },
        "outputId": "ed1924b3-f359-497d-c1a0-a5a681539b21"
      },
      "source": [
        "test_image= image.load_img('/content/data/0/002134abf28af54575c18741b89dd2a4.jpg', ## true class zero\n",
        "                           target_size = (50, 50))\n",
        "test_image = image.img_to_array(test_image)\n",
        "test_image = test_image/255\n",
        "test_image = np.expand_dims(test_image, axis=0\n",
        "                           )\n",
        "loaded_model.predict_classes(test_image, batch_size=1)"
      ],
      "execution_count": 30,
      "outputs": [
        {
          "output_type": "execute_result",
          "data": {
            "text/plain": [
              "array([0])"
            ]
          },
          "metadata": {
            "tags": []
          },
          "execution_count": 30
        }
      ]
    },
    {
      "cell_type": "markdown",
      "metadata": {
        "id": "_e3jT_4OE10c",
        "colab_type": "text"
      },
      "source": [
        "## **Convert Keras Model to TFLite**"
      ]
    },
    {
      "cell_type": "code",
      "metadata": {
        "id": "30DlK8P8FFCm",
        "colab_type": "code",
        "colab": {
          "base_uri": "https://localhost:8080/",
          "height": 207
        },
        "outputId": "d1df0f9e-fe64-415f-fc3f-9079741d4663"
      },
      "source": [
        "keras_file = '/content/data/resnet_mod.h5'\n",
        "converter = tf.lite.TFLiteConverter.from_keras_model_file(keras_file, \n",
        "                                  input_shapes={\"resnet50_input\" :[1,50,50,3]},\n",
        ")\n",
        "tflite_model = converter.convert()\n",
        "open(\"converted_model.tflite\", \"wb\").write(tflite_model)"
      ],
      "execution_count": 32,
      "outputs": [
        {
          "output_type": "stream",
          "text": [
            "WARNING:tensorflow:Error in loading the saved optimizer state. As a result, your model is starting with a freshly initialized optimizer.\n",
            "WARNING:tensorflow:From /usr/local/lib/python3.6/dist-packages/tensorflow/lite/python/lite.py:591: convert_variables_to_constants (from tensorflow.python.framework.graph_util_impl) is deprecated and will be removed in a future version.\n",
            "Instructions for updating:\n",
            "Use tf.compat.v1.graph_util.convert_variables_to_constants\n",
            "WARNING:tensorflow:From /usr/local/lib/python3.6/dist-packages/tensorflow/python/framework/graph_util_impl.py:245: extract_sub_graph (from tensorflow.python.framework.graph_util_impl) is deprecated and will be removed in a future version.\n",
            "Instructions for updating:\n",
            "Use tf.compat.v1.graph_util.extract_sub_graph\n",
            "INFO:tensorflow:Froze 320 variables.\n",
            "INFO:tensorflow:Converted 320 variables to const ops.\n"
          ],
          "name": "stdout"
        },
        {
          "output_type": "execute_result",
          "data": {
            "text/plain": [
              "93965704"
            ]
          },
          "metadata": {
            "tags": []
          },
          "execution_count": 32
        }
      ]
    },
    {
      "cell_type": "markdown",
      "metadata": {
        "id": "mvhMLXYoFgjv",
        "colab_type": "text"
      },
      "source": [
        "## **Predict Using TFLite**"
      ]
    },
    {
      "cell_type": "code",
      "metadata": {
        "id": "XKk5NuoiFej9",
        "colab_type": "code",
        "colab": {}
      },
      "source": [
        "tflite_interpreter = tf.lite.Interpreter(model_path=\n",
        "                                         '/content/converted_model.tflite')\n",
        "tflite_interpreter.allocate_tensors()\n",
        "input_details = tflite_interpreter.get_input_details()\n",
        "output_details = tflite_interpreter.get_output_details()"
      ],
      "execution_count": 0,
      "outputs": []
    },
    {
      "cell_type": "code",
      "metadata": {
        "id": "xXyBSTTJFpAB",
        "colab_type": "code",
        "colab": {}
      },
      "source": [
        "tflite_interpreter.set_tensor(input_details[0]['index'], test_image)\n",
        "\n",
        "tflite_interpreter.invoke()\n",
        "tflite_results = tflite_interpreter.get_tensor(output_details[0]['index'])\n"
      ],
      "execution_count": 0,
      "outputs": []
    },
    {
      "cell_type": "code",
      "metadata": {
        "id": "CDgS_6gtF_12",
        "colab_type": "code",
        "colab": {
          "base_uri": "https://localhost:8080/",
          "height": 34
        },
        "outputId": "467e58d1-c98b-4acb-c983-7a1f7434a97f"
      },
      "source": [
        "np.argmax(tflite_results, axis=-1)"
      ],
      "execution_count": 35,
      "outputs": [
        {
          "output_type": "execute_result",
          "data": {
            "text/plain": [
              "array([0])"
            ]
          },
          "metadata": {
            "tags": []
          },
          "execution_count": 35
        }
      ]
    }
  ]
}